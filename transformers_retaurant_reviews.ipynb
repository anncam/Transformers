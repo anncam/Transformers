{
  "cells": [
    {
      "cell_type": "markdown",
      "metadata": {
        "id": "view-in-github",
        "colab_type": "text"
      },
      "source": [
        "<a href=\"https://colab.research.google.com/github/anncam/Transformers/blob/main/transformers_retaurant_reviews.ipynb\" target=\"_parent\"><img src=\"https://colab.research.google.com/assets/colab-badge.svg\" alt=\"Open In Colab\"/></a>"
      ]
    },
    {
      "cell_type": "code",
      "execution_count": 1,
      "metadata": {
        "_cell_guid": "b1076dfc-b9ad-4769-8c92-a6c4dae69d19",
        "_uuid": "8f2839f25d086af736a60e9eeb907d3b93b6e0e5",
        "execution": {
          "iopub.execute_input": "2020-10-16T12:01:19.526958Z",
          "iopub.status.busy": "2020-10-16T12:01:19.526207Z",
          "iopub.status.idle": "2020-10-16T12:01:19.535147Z",
          "shell.execute_reply": "2020-10-16T12:01:19.534504Z"
        },
        "papermill": {
          "duration": 0.046302,
          "end_time": "2020-10-16T12:01:19.535266",
          "exception": false,
          "start_time": "2020-10-16T12:01:19.488964",
          "status": "completed"
        },
        "tags": [],
        "id": "FhW4Y11876NP"
      },
      "outputs": [],
      "source": [
        "# This Python 3 environment comes with many helpful analytics libraries installed\n",
        "# It is defined by the kaggle/python Docker image: https://github.com/kaggle/docker-python\n",
        "# For example, here's several helpful packages to load\n",
        "# Input data files are available in the read-only \"../input/\" directory\n",
        "# For example, running this (by clicking run or pressing Shift+Enter) will list all files under the input directory\n",
        "\n",
        "import os\n",
        "for dirname, _, filenames in os.walk('/kaggle/input'):\n",
        "    for filename in filenames:\n",
        "        print(os.path.join(dirname, filename))\n"
      ]
    },
    {
      "cell_type": "markdown",
      "source": [],
      "metadata": {
        "id": "yWYTwJEVPn94"
      }
    },
    {
      "cell_type": "markdown",
      "metadata": {
        "papermill": {
          "duration": 0.028263,
          "end_time": "2020-10-16T12:01:19.592755",
          "exception": false,
          "start_time": "2020-10-16T12:01:19.564492",
          "status": "completed"
        },
        "tags": [],
        "id": "l6SviOay76NS"
      },
      "source": [
        "# Packages Required"
      ]
    },
    {
      "cell_type": "code",
      "execution_count": 29,
      "metadata": {
        "collapsed": true,
        "execution": {
          "iopub.execute_input": "2020-10-16T12:01:19.655578Z",
          "iopub.status.busy": "2020-10-16T12:01:19.654759Z",
          "iopub.status.idle": "2020-10-16T12:02:10.801092Z",
          "shell.execute_reply": "2020-10-16T12:02:10.800381Z"
        },
        "papermill": {
          "duration": 51.180036,
          "end_time": "2020-10-16T12:02:10.801223",
          "exception": false,
          "start_time": "2020-10-16T12:01:19.621187",
          "status": "completed"
        },
        "tags": [],
        "colab": {
          "base_uri": "https://localhost:8080/"
        },
        "id": "iirxZ6XM76NU",
        "outputId": "a36f87f3-2482-4ceb-b69d-b849cfe06b60"
      },
      "outputs": [
        {
          "output_type": "stream",
          "name": "stdout",
          "text": [
            "Looking in indexes: https://pypi.org/simple, https://us-python.pkg.dev/colab-wheels/public/simple/\n",
            "Requirement already satisfied: ktrain in /usr/local/lib/python3.7/dist-packages (0.31.10)\n",
            "Requirement already satisfied: scikit-learn in /usr/local/lib/python3.7/dist-packages (from ktrain) (1.0.2)\n",
            "Requirement already satisfied: requests in /usr/local/lib/python3.7/dist-packages (from ktrain) (2.23.0)\n",
            "Requirement already satisfied: cchardet in /usr/local/lib/python3.7/dist-packages (from ktrain) (2.1.7)\n",
            "Requirement already satisfied: matplotlib>=3.0.0 in /usr/local/lib/python3.7/dist-packages (from ktrain) (3.2.2)\n",
            "Requirement already satisfied: fastprogress>=0.1.21 in /usr/local/lib/python3.7/dist-packages (from ktrain) (1.0.3)\n",
            "Requirement already satisfied: chardet in /usr/local/lib/python3.7/dist-packages (from ktrain) (3.0.4)\n",
            "Requirement already satisfied: syntok>1.3.3 in /usr/local/lib/python3.7/dist-packages (from ktrain) (1.4.4)\n",
            "Requirement already satisfied: packaging in /usr/local/lib/python3.7/dist-packages (from ktrain) (21.3)\n",
            "Requirement already satisfied: sentencepiece in /usr/local/lib/python3.7/dist-packages (from ktrain) (0.1.97)\n",
            "Requirement already satisfied: transformers==4.17.0 in /usr/local/lib/python3.7/dist-packages (from ktrain) (4.17.0)\n",
            "Requirement already satisfied: langdetect in /usr/local/lib/python3.7/dist-packages (from ktrain) (1.0.9)\n",
            "Requirement already satisfied: keras-bert>=0.86.0 in /usr/local/lib/python3.7/dist-packages (from ktrain) (0.89.0)\n",
            "Requirement already satisfied: whoosh in /usr/local/lib/python3.7/dist-packages (from ktrain) (2.7.4)\n",
            "Requirement already satisfied: jieba in /usr/local/lib/python3.7/dist-packages (from ktrain) (0.42.1)\n",
            "Requirement already satisfied: joblib in /usr/local/lib/python3.7/dist-packages (from ktrain) (1.2.0)\n",
            "Requirement already satisfied: pandas>=1.0.1 in /usr/local/lib/python3.7/dist-packages (from ktrain) (1.3.5)\n",
            "Requirement already satisfied: huggingface-hub<1.0,>=0.1.0 in /usr/local/lib/python3.7/dist-packages (from transformers==4.17.0->ktrain) (0.11.1)\n",
            "Requirement already satisfied: tokenizers!=0.11.3,>=0.11.1 in /usr/local/lib/python3.7/dist-packages (from transformers==4.17.0->ktrain) (0.13.2)\n",
            "Requirement already satisfied: importlib-metadata in /usr/local/lib/python3.7/dist-packages (from transformers==4.17.0->ktrain) (4.13.0)\n",
            "Requirement already satisfied: sacremoses in /usr/local/lib/python3.7/dist-packages (from transformers==4.17.0->ktrain) (0.0.53)\n",
            "Requirement already satisfied: filelock in /usr/local/lib/python3.7/dist-packages (from transformers==4.17.0->ktrain) (3.8.0)\n",
            "Requirement already satisfied: regex!=2019.12.17 in /usr/local/lib/python3.7/dist-packages (from transformers==4.17.0->ktrain) (2022.6.2)\n",
            "Requirement already satisfied: numpy>=1.17 in /usr/local/lib/python3.7/dist-packages (from transformers==4.17.0->ktrain) (1.21.6)\n",
            "Requirement already satisfied: tqdm>=4.27 in /usr/local/lib/python3.7/dist-packages (from transformers==4.17.0->ktrain) (4.64.1)\n",
            "Requirement already satisfied: pyyaml>=5.1 in /usr/local/lib/python3.7/dist-packages (from transformers==4.17.0->ktrain) (6.0)\n",
            "Requirement already satisfied: typing-extensions>=3.7.4.3 in /usr/local/lib/python3.7/dist-packages (from huggingface-hub<1.0,>=0.1.0->transformers==4.17.0->ktrain) (4.1.1)\n",
            "Requirement already satisfied: keras-transformer==0.40.0 in /usr/local/lib/python3.7/dist-packages (from keras-bert>=0.86.0->ktrain) (0.40.0)\n",
            "Requirement already satisfied: keras-multi-head==0.29.0 in /usr/local/lib/python3.7/dist-packages (from keras-transformer==0.40.0->keras-bert>=0.86.0->ktrain) (0.29.0)\n",
            "Requirement already satisfied: keras-position-wise-feed-forward==0.8.0 in /usr/local/lib/python3.7/dist-packages (from keras-transformer==0.40.0->keras-bert>=0.86.0->ktrain) (0.8.0)\n",
            "Requirement already satisfied: keras-embed-sim==0.10.0 in /usr/local/lib/python3.7/dist-packages (from keras-transformer==0.40.0->keras-bert>=0.86.0->ktrain) (0.10.0)\n",
            "Requirement already satisfied: keras-layer-normalization==0.16.0 in /usr/local/lib/python3.7/dist-packages (from keras-transformer==0.40.0->keras-bert>=0.86.0->ktrain) (0.16.0)\n",
            "Requirement already satisfied: keras-pos-embd==0.13.0 in /usr/local/lib/python3.7/dist-packages (from keras-transformer==0.40.0->keras-bert>=0.86.0->ktrain) (0.13.0)\n",
            "Requirement already satisfied: keras-self-attention==0.51.0 in /usr/local/lib/python3.7/dist-packages (from keras-multi-head==0.29.0->keras-transformer==0.40.0->keras-bert>=0.86.0->ktrain) (0.51.0)\n",
            "Requirement already satisfied: kiwisolver>=1.0.1 in /usr/local/lib/python3.7/dist-packages (from matplotlib>=3.0.0->ktrain) (1.4.4)\n",
            "Requirement already satisfied: cycler>=0.10 in /usr/local/lib/python3.7/dist-packages (from matplotlib>=3.0.0->ktrain) (0.11.0)\n",
            "Requirement already satisfied: pyparsing!=2.0.4,!=2.1.2,!=2.1.6,>=2.0.1 in /usr/local/lib/python3.7/dist-packages (from matplotlib>=3.0.0->ktrain) (3.0.9)\n",
            "Requirement already satisfied: python-dateutil>=2.1 in /usr/local/lib/python3.7/dist-packages (from matplotlib>=3.0.0->ktrain) (2.8.2)\n",
            "Requirement already satisfied: pytz>=2017.3 in /usr/local/lib/python3.7/dist-packages (from pandas>=1.0.1->ktrain) (2022.6)\n",
            "Requirement already satisfied: six>=1.5 in /usr/local/lib/python3.7/dist-packages (from python-dateutil>=2.1->matplotlib>=3.0.0->ktrain) (1.15.0)\n",
            "Requirement already satisfied: zipp>=0.5 in /usr/local/lib/python3.7/dist-packages (from importlib-metadata->transformers==4.17.0->ktrain) (3.10.0)\n",
            "Requirement already satisfied: idna<3,>=2.5 in /usr/local/lib/python3.7/dist-packages (from requests->ktrain) (2.10)\n",
            "Requirement already satisfied: certifi>=2017.4.17 in /usr/local/lib/python3.7/dist-packages (from requests->ktrain) (2022.9.24)\n",
            "Requirement already satisfied: urllib3!=1.25.0,!=1.25.1,<1.26,>=1.21.1 in /usr/local/lib/python3.7/dist-packages (from requests->ktrain) (1.24.3)\n",
            "Requirement already satisfied: click in /usr/local/lib/python3.7/dist-packages (from sacremoses->transformers==4.17.0->ktrain) (7.1.2)\n",
            "Requirement already satisfied: threadpoolctl>=2.0.0 in /usr/local/lib/python3.7/dist-packages (from scikit-learn->ktrain) (3.1.0)\n",
            "Requirement already satisfied: scipy>=1.1.0 in /usr/local/lib/python3.7/dist-packages (from scikit-learn->ktrain) (1.7.3)\n"
          ]
        }
      ],
      "source": [
        "!pip3 install ktrain"
      ]
    },
    {
      "cell_type": "code",
      "execution_count": 30,
      "metadata": {
        "_cell_guid": "79c7e3d0-c299-4dcb-8224-4455121ee9b0",
        "_uuid": "d629ff2d2480ee46fbb7e2d37f6b5fab8052498a",
        "execution": {
          "iopub.execute_input": "2020-10-16T12:02:10.988775Z",
          "iopub.status.busy": "2020-10-16T12:02:10.987272Z",
          "iopub.status.idle": "2020-10-16T12:02:22.249775Z",
          "shell.execute_reply": "2020-10-16T12:02:22.251151Z"
        },
        "papermill": {
          "duration": 11.366052,
          "end_time": "2020-10-16T12:02:22.251347",
          "exception": false,
          "start_time": "2020-10-16T12:02:10.885295",
          "status": "completed"
        },
        "tags": [],
        "id": "3I3hBP1q76NV"
      },
      "outputs": [],
      "source": [
        "import numpy as np\n",
        "import pandas as pd\n",
        "import missingno as msno\n",
        "import seaborn as sns\n",
        "import warnings\n",
        "warnings.filterwarnings(\"ignore\")\n",
        "import plotly.graph_objects as go\n",
        "#import plotly.express as px\n",
        "import matplotlib.pyplot as plt\n",
        "import spacy\n",
        "import tensorflow as tf\n",
        "from wordcloud import WordCloud, STOPWORDS \n",
        "import ktrain\n",
        "from ktrain import text\n",
        "\n",
        "from collections import Counter\n",
        "%matplotlib inline"
      ]
    },
    {
      "cell_type": "code",
      "source": [
        "from google.colab import drive\n",
        "drive.mount('/content/drive')"
      ],
      "metadata": {
        "colab": {
          "base_uri": "https://localhost:8080/"
        },
        "id": "itsr8KJQ-sXr",
        "outputId": "b1d70719-0570-4ea1-cc04-b23b303f4c14"
      },
      "execution_count": 31,
      "outputs": [
        {
          "output_type": "stream",
          "name": "stdout",
          "text": [
            "Drive already mounted at /content/drive; to attempt to forcibly remount, call drive.mount(\"/content/drive\", force_remount=True).\n"
          ]
        }
      ]
    },
    {
      "cell_type": "code",
      "execution_count": 32,
      "metadata": {
        "execution": {
          "iopub.execute_input": "2020-10-16T12:02:22.513287Z",
          "iopub.status.busy": "2020-10-16T12:02:22.512308Z",
          "iopub.status.idle": "2020-10-16T12:02:22.895237Z",
          "shell.execute_reply": "2020-10-16T12:02:22.896668Z"
        },
        "papermill": {
          "duration": 0.515837,
          "end_time": "2020-10-16T12:02:22.896893",
          "exception": false,
          "start_time": "2020-10-16T12:02:22.381056",
          "status": "completed"
        },
        "tags": [],
        "colab": {
          "base_uri": "https://localhost:8080/",
          "height": 574
        },
        "id": "rXF88FlQ76NX",
        "outputId": "f208cf41-4d2b-41a1-e922-9b882b1e4708"
      },
      "outputs": [
        {
          "output_type": "execute_result",
          "data": {
            "text/plain": [
              "  Unnamed: 0 parse_count restaurant_name rating_review    sample  \\\n",
              "0          1           2            Lido             5  Positive   \n",
              "1          2           3            Lido             4  Positive   \n",
              "2          3           4            Lido             1  Negative   \n",
              "3          4           5            Lido             5  Positive   \n",
              "4          5           6            Lido             5  Positive   \n",
              "\n",
              "          review_id             title_review  \\\n",
              "0  review_773559838          A Regular Treat   \n",
              "1  review_769429529  Good neighborhood spot!   \n",
              "2  review_745700258            Disappointing   \n",
              "3  review_728859349    What a find in Harlem   \n",
              "4  review_728429643                    Lunch   \n",
              "\n",
              "                                      review_preview  \\\n",
              "0  My wife and I have been eating dinner frequent...   \n",
              "1  Came with family for Labor Day weekend brunch ...   \n",
              "2  Food was mediocre at best.  The lamb chops are...   \n",
              "3  My co-workers were volunteering at a foodbank ...   \n",
              "4  Lido is an intimate boutique style restaurant....   \n",
              "\n",
              "                                         review_full               date  \\\n",
              "0  My wife and I have been eating dinner frequent...    October 8, 2020   \n",
              "1  Came with family for Labor Day weekend brunch ...  September 8, 2020   \n",
              "2  Food was mediocre at best. The lamb chops are ...  February 17, 2020   \n",
              "3  My co-workers were volunteering at a foodbank ...  November 25, 2019   \n",
              "4  Lido is an intimate boutique style restaurant....  November 23, 2019   \n",
              "\n",
              "                     city                                     url_restaurant  \\\n",
              "0  New_York_City_New_York  https://www.tripadvisor.com/Restaurant_Review-...   \n",
              "1  New_York_City_New_York  https://www.tripadvisor.com/Restaurant_Review-...   \n",
              "2  New_York_City_New_York  https://www.tripadvisor.com/Restaurant_Review-...   \n",
              "3  New_York_City_New_York  https://www.tripadvisor.com/Restaurant_Review-...   \n",
              "4  New_York_City_New_York  https://www.tripadvisor.com/Restaurant_Review-...   \n",
              "\n",
              "  author_id  \n",
              "0     UID_0  \n",
              "1     UID_1  \n",
              "2     UID_2  \n",
              "3     UID_3  \n",
              "4     UID_4  "
            ],
            "text/html": [
              "\n",
              "  <div id=\"df-ac056c4c-e38c-4c7f-abb5-c972a05a2d48\">\n",
              "    <div class=\"colab-df-container\">\n",
              "      <div>\n",
              "<style scoped>\n",
              "    .dataframe tbody tr th:only-of-type {\n",
              "        vertical-align: middle;\n",
              "    }\n",
              "\n",
              "    .dataframe tbody tr th {\n",
              "        vertical-align: top;\n",
              "    }\n",
              "\n",
              "    .dataframe thead th {\n",
              "        text-align: right;\n",
              "    }\n",
              "</style>\n",
              "<table border=\"1\" class=\"dataframe\">\n",
              "  <thead>\n",
              "    <tr style=\"text-align: right;\">\n",
              "      <th></th>\n",
              "      <th>Unnamed: 0</th>\n",
              "      <th>parse_count</th>\n",
              "      <th>restaurant_name</th>\n",
              "      <th>rating_review</th>\n",
              "      <th>sample</th>\n",
              "      <th>review_id</th>\n",
              "      <th>title_review</th>\n",
              "      <th>review_preview</th>\n",
              "      <th>review_full</th>\n",
              "      <th>date</th>\n",
              "      <th>city</th>\n",
              "      <th>url_restaurant</th>\n",
              "      <th>author_id</th>\n",
              "    </tr>\n",
              "  </thead>\n",
              "  <tbody>\n",
              "    <tr>\n",
              "      <th>0</th>\n",
              "      <td>1</td>\n",
              "      <td>2</td>\n",
              "      <td>Lido</td>\n",
              "      <td>5</td>\n",
              "      <td>Positive</td>\n",
              "      <td>review_773559838</td>\n",
              "      <td>A Regular Treat</td>\n",
              "      <td>My wife and I have been eating dinner frequent...</td>\n",
              "      <td>My wife and I have been eating dinner frequent...</td>\n",
              "      <td>October 8, 2020</td>\n",
              "      <td>New_York_City_New_York</td>\n",
              "      <td>https://www.tripadvisor.com/Restaurant_Review-...</td>\n",
              "      <td>UID_0</td>\n",
              "    </tr>\n",
              "    <tr>\n",
              "      <th>1</th>\n",
              "      <td>2</td>\n",
              "      <td>3</td>\n",
              "      <td>Lido</td>\n",
              "      <td>4</td>\n",
              "      <td>Positive</td>\n",
              "      <td>review_769429529</td>\n",
              "      <td>Good neighborhood spot!</td>\n",
              "      <td>Came with family for Labor Day weekend brunch ...</td>\n",
              "      <td>Came with family for Labor Day weekend brunch ...</td>\n",
              "      <td>September 8, 2020</td>\n",
              "      <td>New_York_City_New_York</td>\n",
              "      <td>https://www.tripadvisor.com/Restaurant_Review-...</td>\n",
              "      <td>UID_1</td>\n",
              "    </tr>\n",
              "    <tr>\n",
              "      <th>2</th>\n",
              "      <td>3</td>\n",
              "      <td>4</td>\n",
              "      <td>Lido</td>\n",
              "      <td>1</td>\n",
              "      <td>Negative</td>\n",
              "      <td>review_745700258</td>\n",
              "      <td>Disappointing</td>\n",
              "      <td>Food was mediocre at best.  The lamb chops are...</td>\n",
              "      <td>Food was mediocre at best. The lamb chops are ...</td>\n",
              "      <td>February 17, 2020</td>\n",
              "      <td>New_York_City_New_York</td>\n",
              "      <td>https://www.tripadvisor.com/Restaurant_Review-...</td>\n",
              "      <td>UID_2</td>\n",
              "    </tr>\n",
              "    <tr>\n",
              "      <th>3</th>\n",
              "      <td>4</td>\n",
              "      <td>5</td>\n",
              "      <td>Lido</td>\n",
              "      <td>5</td>\n",
              "      <td>Positive</td>\n",
              "      <td>review_728859349</td>\n",
              "      <td>What a find in Harlem</td>\n",
              "      <td>My co-workers were volunteering at a foodbank ...</td>\n",
              "      <td>My co-workers were volunteering at a foodbank ...</td>\n",
              "      <td>November 25, 2019</td>\n",
              "      <td>New_York_City_New_York</td>\n",
              "      <td>https://www.tripadvisor.com/Restaurant_Review-...</td>\n",
              "      <td>UID_3</td>\n",
              "    </tr>\n",
              "    <tr>\n",
              "      <th>4</th>\n",
              "      <td>5</td>\n",
              "      <td>6</td>\n",
              "      <td>Lido</td>\n",
              "      <td>5</td>\n",
              "      <td>Positive</td>\n",
              "      <td>review_728429643</td>\n",
              "      <td>Lunch</td>\n",
              "      <td>Lido is an intimate boutique style restaurant....</td>\n",
              "      <td>Lido is an intimate boutique style restaurant....</td>\n",
              "      <td>November 23, 2019</td>\n",
              "      <td>New_York_City_New_York</td>\n",
              "      <td>https://www.tripadvisor.com/Restaurant_Review-...</td>\n",
              "      <td>UID_4</td>\n",
              "    </tr>\n",
              "  </tbody>\n",
              "</table>\n",
              "</div>\n",
              "      <button class=\"colab-df-convert\" onclick=\"convertToInteractive('df-ac056c4c-e38c-4c7f-abb5-c972a05a2d48')\"\n",
              "              title=\"Convert this dataframe to an interactive table.\"\n",
              "              style=\"display:none;\">\n",
              "        \n",
              "  <svg xmlns=\"http://www.w3.org/2000/svg\" height=\"24px\"viewBox=\"0 0 24 24\"\n",
              "       width=\"24px\">\n",
              "    <path d=\"M0 0h24v24H0V0z\" fill=\"none\"/>\n",
              "    <path d=\"M18.56 5.44l.94 2.06.94-2.06 2.06-.94-2.06-.94-.94-2.06-.94 2.06-2.06.94zm-11 1L8.5 8.5l.94-2.06 2.06-.94-2.06-.94L8.5 2.5l-.94 2.06-2.06.94zm10 10l.94 2.06.94-2.06 2.06-.94-2.06-.94-.94-2.06-.94 2.06-2.06.94z\"/><path d=\"M17.41 7.96l-1.37-1.37c-.4-.4-.92-.59-1.43-.59-.52 0-1.04.2-1.43.59L10.3 9.45l-7.72 7.72c-.78.78-.78 2.05 0 2.83L4 21.41c.39.39.9.59 1.41.59.51 0 1.02-.2 1.41-.59l7.78-7.78 2.81-2.81c.8-.78.8-2.07 0-2.86zM5.41 20L4 18.59l7.72-7.72 1.47 1.35L5.41 20z\"/>\n",
              "  </svg>\n",
              "      </button>\n",
              "      \n",
              "  <style>\n",
              "    .colab-df-container {\n",
              "      display:flex;\n",
              "      flex-wrap:wrap;\n",
              "      gap: 12px;\n",
              "    }\n",
              "\n",
              "    .colab-df-convert {\n",
              "      background-color: #E8F0FE;\n",
              "      border: none;\n",
              "      border-radius: 50%;\n",
              "      cursor: pointer;\n",
              "      display: none;\n",
              "      fill: #1967D2;\n",
              "      height: 32px;\n",
              "      padding: 0 0 0 0;\n",
              "      width: 32px;\n",
              "    }\n",
              "\n",
              "    .colab-df-convert:hover {\n",
              "      background-color: #E2EBFA;\n",
              "      box-shadow: 0px 1px 2px rgba(60, 64, 67, 0.3), 0px 1px 3px 1px rgba(60, 64, 67, 0.15);\n",
              "      fill: #174EA6;\n",
              "    }\n",
              "\n",
              "    [theme=dark] .colab-df-convert {\n",
              "      background-color: #3B4455;\n",
              "      fill: #D2E3FC;\n",
              "    }\n",
              "\n",
              "    [theme=dark] .colab-df-convert:hover {\n",
              "      background-color: #434B5C;\n",
              "      box-shadow: 0px 1px 3px 1px rgba(0, 0, 0, 0.15);\n",
              "      filter: drop-shadow(0px 1px 2px rgba(0, 0, 0, 0.3));\n",
              "      fill: #FFFFFF;\n",
              "    }\n",
              "  </style>\n",
              "\n",
              "      <script>\n",
              "        const buttonEl =\n",
              "          document.querySelector('#df-ac056c4c-e38c-4c7f-abb5-c972a05a2d48 button.colab-df-convert');\n",
              "        buttonEl.style.display =\n",
              "          google.colab.kernel.accessAllowed ? 'block' : 'none';\n",
              "\n",
              "        async function convertToInteractive(key) {\n",
              "          const element = document.querySelector('#df-ac056c4c-e38c-4c7f-abb5-c972a05a2d48');\n",
              "          const dataTable =\n",
              "            await google.colab.kernel.invokeFunction('convertToInteractive',\n",
              "                                                     [key], {});\n",
              "          if (!dataTable) return;\n",
              "\n",
              "          const docLinkHtml = 'Like what you see? Visit the ' +\n",
              "            '<a target=\"_blank\" href=https://colab.research.google.com/notebooks/data_table.ipynb>data table notebook</a>'\n",
              "            + ' to learn more about interactive tables.';\n",
              "          element.innerHTML = '';\n",
              "          dataTable['output_type'] = 'display_data';\n",
              "          await google.colab.output.renderOutput(dataTable, element);\n",
              "          const docLink = document.createElement('div');\n",
              "          docLink.innerHTML = docLinkHtml;\n",
              "          element.appendChild(docLink);\n",
              "        }\n",
              "      </script>\n",
              "    </div>\n",
              "  </div>\n",
              "  "
            ]
          },
          "metadata": {},
          "execution_count": 32
        }
      ],
      "source": [
        "#df = pd.read_csv('../input/trip-advisor-hotel-reviews/tripadvisor_hotel_reviews.csv')\n",
        "df = pd.read_csv('drive/My Drive/Colab Notebooks/data/New_York_reviews.csv')\n",
        "df.head()"
      ]
    },
    {
      "cell_type": "code",
      "execution_count": 33,
      "metadata": {
        "execution": {
          "iopub.execute_input": "2020-10-16T12:02:23.087781Z",
          "iopub.status.busy": "2020-10-16T12:02:23.086649Z",
          "iopub.status.idle": "2020-10-16T12:02:23.090666Z",
          "shell.execute_reply": "2020-10-16T12:02:23.091167Z"
        },
        "papermill": {
          "duration": 0.095356,
          "end_time": "2020-10-16T12:02:23.091306",
          "exception": false,
          "start_time": "2020-10-16T12:02:22.995950",
          "status": "completed"
        },
        "tags": [],
        "colab": {
          "base_uri": "https://localhost:8080/"
        },
        "id": "LBIX5WDn76NY",
        "outputId": "c54c8dac-e67d-4776-a6fd-9b5290915d51"
      },
      "outputs": [
        {
          "output_type": "execute_result",
          "data": {
            "text/plain": [
              "(510463, 13)"
            ]
          },
          "metadata": {},
          "execution_count": 33
        }
      ],
      "source": [
        "df.shape"
      ]
    },
    {
      "cell_type": "code",
      "execution_count": 8,
      "metadata": {
        "execution": {
          "iopub.execute_input": "2020-10-16T12:02:23.274290Z",
          "iopub.status.busy": "2020-10-16T12:02:23.271246Z",
          "iopub.status.idle": "2020-10-16T12:02:23.277606Z",
          "shell.execute_reply": "2020-10-16T12:02:23.278190Z"
        },
        "papermill": {
          "duration": 0.101933,
          "end_time": "2020-10-16T12:02:23.278345",
          "exception": false,
          "start_time": "2020-10-16T12:02:23.176412",
          "status": "completed"
        },
        "tags": [],
        "colab": {
          "base_uri": "https://localhost:8080/"
        },
        "id": "tbbZG5pf76NZ",
        "outputId": "2ac5ce83-cac1-447a-f2fc-a45a350a695b"
      },
      "outputs": [
        {
          "output_type": "execute_result",
          "data": {
            "text/plain": [
              "True"
            ]
          },
          "metadata": {},
          "execution_count": 8
        }
      ],
      "source": [
        "df.isnull().sum().any()"
      ]
    },
    {
      "cell_type": "markdown",
      "source": [
        "## Taking a subset of data since its so large"
      ],
      "metadata": {
        "id": "EAwJxWJDChzr"
      }
    },
    {
      "cell_type": "code",
      "source": [
        "df = df.sample(n=10000)\n",
        "df.shape"
      ],
      "metadata": {
        "colab": {
          "base_uri": "https://localhost:8080/"
        },
        "id": "zSUcDWlDCgap",
        "outputId": "3cfefa5b-03ea-42ca-ec53-84ce29dae316"
      },
      "execution_count": 34,
      "outputs": [
        {
          "output_type": "execute_result",
          "data": {
            "text/plain": [
              "(10000, 13)"
            ]
          },
          "metadata": {},
          "execution_count": 34
        }
      ]
    },
    {
      "cell_type": "code",
      "source": [
        "df.head()"
      ],
      "metadata": {
        "colab": {
          "base_uri": "https://localhost:8080/",
          "height": 557
        },
        "id": "AgKo9AhCL-NE",
        "outputId": "262328c3-0534-4048-aed8-88589534cec7"
      },
      "execution_count": 35,
      "outputs": [
        {
          "output_type": "execute_result",
          "data": {
            "text/plain": [
              "       Unnamed: 0 parse_count         restaurant_name rating_review    sample  \\\n",
              "43918       44601       44602  Sean_s_Bar_And_Kitchen             5  Positive   \n",
              "274649     278447      278448              Casa_Nonna             4  Positive   \n",
              "205536     208426      208427             Don_Antonio             5  Positive   \n",
              "117557     119161      119162                    44_X             3  Negative   \n",
              "477248     483948      483949      Neapolitan_Express             5  Positive   \n",
              "\n",
              "               review_id                  title_review  \\\n",
              "43918   review_582606085             Great atmosphere    \n",
              "274649  review_513850592  Lovely Restaurant Week Lunch   \n",
              "205536  review_644143910                Amazing pizzas   \n",
              "117557  review_609936469         Good but bit pricey.    \n",
              "477248  review_320721997               Amazing pizza!    \n",
              "\n",
              "                                           review_preview  \\\n",
              "43918   As my husband and I were walking around search...   \n",
              "274649  Had a nice time as a solo diner during Restaur...   \n",
              "205536  This is the best pizza I have tasted in New Yo...   \n",
              "117557  Good food service good. Pricey for what it was...   \n",
              "477248  The crust is just perfect. You can pick your t...   \n",
              "\n",
              "                                              review_full              date  \\\n",
              "43918   As my husband and I were walking around search...      May 25, 2018   \n",
              "274649  Had a nice time as a solo diner during Restaur...   August 16, 2017   \n",
              "205536  This is the best pizza I have tasted in New Yo...   January 6, 2019   \n",
              "117557  Good food service good. Pricey for what it was...   August 24, 2018   \n",
              "477248  The crust is just perfect. You can pick your t...  October 21, 2015   \n",
              "\n",
              "                          city  \\\n",
              "43918   New_York_City_New_York   \n",
              "274649  New_York_City_New_York   \n",
              "205536  New_York_City_New_York   \n",
              "117557  New_York_City_New_York   \n",
              "477248  New_York_City_New_York   \n",
              "\n",
              "                                           url_restaurant   author_id  \n",
              "43918   https://www.tripadvisor.com/Restaurant_Review-...   UID_36995  \n",
              "274649  https://www.tripadvisor.com/Restaurant_Review-...   UID_24092  \n",
              "205536  https://www.tripadvisor.com/Restaurant_Review-...  UID_132514  \n",
              "117557  https://www.tripadvisor.com/Restaurant_Review-...   UID_46319  \n",
              "477248  https://www.tripadvisor.com/Restaurant_Review-...   UID_20109  "
            ],
            "text/html": [
              "\n",
              "  <div id=\"df-fe78ee70-bcd5-4fb4-ad4c-43d0e22b2ce1\">\n",
              "    <div class=\"colab-df-container\">\n",
              "      <div>\n",
              "<style scoped>\n",
              "    .dataframe tbody tr th:only-of-type {\n",
              "        vertical-align: middle;\n",
              "    }\n",
              "\n",
              "    .dataframe tbody tr th {\n",
              "        vertical-align: top;\n",
              "    }\n",
              "\n",
              "    .dataframe thead th {\n",
              "        text-align: right;\n",
              "    }\n",
              "</style>\n",
              "<table border=\"1\" class=\"dataframe\">\n",
              "  <thead>\n",
              "    <tr style=\"text-align: right;\">\n",
              "      <th></th>\n",
              "      <th>Unnamed: 0</th>\n",
              "      <th>parse_count</th>\n",
              "      <th>restaurant_name</th>\n",
              "      <th>rating_review</th>\n",
              "      <th>sample</th>\n",
              "      <th>review_id</th>\n",
              "      <th>title_review</th>\n",
              "      <th>review_preview</th>\n",
              "      <th>review_full</th>\n",
              "      <th>date</th>\n",
              "      <th>city</th>\n",
              "      <th>url_restaurant</th>\n",
              "      <th>author_id</th>\n",
              "    </tr>\n",
              "  </thead>\n",
              "  <tbody>\n",
              "    <tr>\n",
              "      <th>43918</th>\n",
              "      <td>44601</td>\n",
              "      <td>44602</td>\n",
              "      <td>Sean_s_Bar_And_Kitchen</td>\n",
              "      <td>5</td>\n",
              "      <td>Positive</td>\n",
              "      <td>review_582606085</td>\n",
              "      <td>Great atmosphere</td>\n",
              "      <td>As my husband and I were walking around search...</td>\n",
              "      <td>As my husband and I were walking around search...</td>\n",
              "      <td>May 25, 2018</td>\n",
              "      <td>New_York_City_New_York</td>\n",
              "      <td>https://www.tripadvisor.com/Restaurant_Review-...</td>\n",
              "      <td>UID_36995</td>\n",
              "    </tr>\n",
              "    <tr>\n",
              "      <th>274649</th>\n",
              "      <td>278447</td>\n",
              "      <td>278448</td>\n",
              "      <td>Casa_Nonna</td>\n",
              "      <td>4</td>\n",
              "      <td>Positive</td>\n",
              "      <td>review_513850592</td>\n",
              "      <td>Lovely Restaurant Week Lunch</td>\n",
              "      <td>Had a nice time as a solo diner during Restaur...</td>\n",
              "      <td>Had a nice time as a solo diner during Restaur...</td>\n",
              "      <td>August 16, 2017</td>\n",
              "      <td>New_York_City_New_York</td>\n",
              "      <td>https://www.tripadvisor.com/Restaurant_Review-...</td>\n",
              "      <td>UID_24092</td>\n",
              "    </tr>\n",
              "    <tr>\n",
              "      <th>205536</th>\n",
              "      <td>208426</td>\n",
              "      <td>208427</td>\n",
              "      <td>Don_Antonio</td>\n",
              "      <td>5</td>\n",
              "      <td>Positive</td>\n",
              "      <td>review_644143910</td>\n",
              "      <td>Amazing pizzas</td>\n",
              "      <td>This is the best pizza I have tasted in New Yo...</td>\n",
              "      <td>This is the best pizza I have tasted in New Yo...</td>\n",
              "      <td>January 6, 2019</td>\n",
              "      <td>New_York_City_New_York</td>\n",
              "      <td>https://www.tripadvisor.com/Restaurant_Review-...</td>\n",
              "      <td>UID_132514</td>\n",
              "    </tr>\n",
              "    <tr>\n",
              "      <th>117557</th>\n",
              "      <td>119161</td>\n",
              "      <td>119162</td>\n",
              "      <td>44_X</td>\n",
              "      <td>3</td>\n",
              "      <td>Negative</td>\n",
              "      <td>review_609936469</td>\n",
              "      <td>Good but bit pricey.</td>\n",
              "      <td>Good food service good. Pricey for what it was...</td>\n",
              "      <td>Good food service good. Pricey for what it was...</td>\n",
              "      <td>August 24, 2018</td>\n",
              "      <td>New_York_City_New_York</td>\n",
              "      <td>https://www.tripadvisor.com/Restaurant_Review-...</td>\n",
              "      <td>UID_46319</td>\n",
              "    </tr>\n",
              "    <tr>\n",
              "      <th>477248</th>\n",
              "      <td>483948</td>\n",
              "      <td>483949</td>\n",
              "      <td>Neapolitan_Express</td>\n",
              "      <td>5</td>\n",
              "      <td>Positive</td>\n",
              "      <td>review_320721997</td>\n",
              "      <td>Amazing pizza!</td>\n",
              "      <td>The crust is just perfect. You can pick your t...</td>\n",
              "      <td>The crust is just perfect. You can pick your t...</td>\n",
              "      <td>October 21, 2015</td>\n",
              "      <td>New_York_City_New_York</td>\n",
              "      <td>https://www.tripadvisor.com/Restaurant_Review-...</td>\n",
              "      <td>UID_20109</td>\n",
              "    </tr>\n",
              "  </tbody>\n",
              "</table>\n",
              "</div>\n",
              "      <button class=\"colab-df-convert\" onclick=\"convertToInteractive('df-fe78ee70-bcd5-4fb4-ad4c-43d0e22b2ce1')\"\n",
              "              title=\"Convert this dataframe to an interactive table.\"\n",
              "              style=\"display:none;\">\n",
              "        \n",
              "  <svg xmlns=\"http://www.w3.org/2000/svg\" height=\"24px\"viewBox=\"0 0 24 24\"\n",
              "       width=\"24px\">\n",
              "    <path d=\"M0 0h24v24H0V0z\" fill=\"none\"/>\n",
              "    <path d=\"M18.56 5.44l.94 2.06.94-2.06 2.06-.94-2.06-.94-.94-2.06-.94 2.06-2.06.94zm-11 1L8.5 8.5l.94-2.06 2.06-.94-2.06-.94L8.5 2.5l-.94 2.06-2.06.94zm10 10l.94 2.06.94-2.06 2.06-.94-2.06-.94-.94-2.06-.94 2.06-2.06.94z\"/><path d=\"M17.41 7.96l-1.37-1.37c-.4-.4-.92-.59-1.43-.59-.52 0-1.04.2-1.43.59L10.3 9.45l-7.72 7.72c-.78.78-.78 2.05 0 2.83L4 21.41c.39.39.9.59 1.41.59.51 0 1.02-.2 1.41-.59l7.78-7.78 2.81-2.81c.8-.78.8-2.07 0-2.86zM5.41 20L4 18.59l7.72-7.72 1.47 1.35L5.41 20z\"/>\n",
              "  </svg>\n",
              "      </button>\n",
              "      \n",
              "  <style>\n",
              "    .colab-df-container {\n",
              "      display:flex;\n",
              "      flex-wrap:wrap;\n",
              "      gap: 12px;\n",
              "    }\n",
              "\n",
              "    .colab-df-convert {\n",
              "      background-color: #E8F0FE;\n",
              "      border: none;\n",
              "      border-radius: 50%;\n",
              "      cursor: pointer;\n",
              "      display: none;\n",
              "      fill: #1967D2;\n",
              "      height: 32px;\n",
              "      padding: 0 0 0 0;\n",
              "      width: 32px;\n",
              "    }\n",
              "\n",
              "    .colab-df-convert:hover {\n",
              "      background-color: #E2EBFA;\n",
              "      box-shadow: 0px 1px 2px rgba(60, 64, 67, 0.3), 0px 1px 3px 1px rgba(60, 64, 67, 0.15);\n",
              "      fill: #174EA6;\n",
              "    }\n",
              "\n",
              "    [theme=dark] .colab-df-convert {\n",
              "      background-color: #3B4455;\n",
              "      fill: #D2E3FC;\n",
              "    }\n",
              "\n",
              "    [theme=dark] .colab-df-convert:hover {\n",
              "      background-color: #434B5C;\n",
              "      box-shadow: 0px 1px 3px 1px rgba(0, 0, 0, 0.15);\n",
              "      filter: drop-shadow(0px 1px 2px rgba(0, 0, 0, 0.3));\n",
              "      fill: #FFFFFF;\n",
              "    }\n",
              "  </style>\n",
              "\n",
              "      <script>\n",
              "        const buttonEl =\n",
              "          document.querySelector('#df-fe78ee70-bcd5-4fb4-ad4c-43d0e22b2ce1 button.colab-df-convert');\n",
              "        buttonEl.style.display =\n",
              "          google.colab.kernel.accessAllowed ? 'block' : 'none';\n",
              "\n",
              "        async function convertToInteractive(key) {\n",
              "          const element = document.querySelector('#df-fe78ee70-bcd5-4fb4-ad4c-43d0e22b2ce1');\n",
              "          const dataTable =\n",
              "            await google.colab.kernel.invokeFunction('convertToInteractive',\n",
              "                                                     [key], {});\n",
              "          if (!dataTable) return;\n",
              "\n",
              "          const docLinkHtml = 'Like what you see? Visit the ' +\n",
              "            '<a target=\"_blank\" href=https://colab.research.google.com/notebooks/data_table.ipynb>data table notebook</a>'\n",
              "            + ' to learn more about interactive tables.';\n",
              "          element.innerHTML = '';\n",
              "          dataTable['output_type'] = 'display_data';\n",
              "          await google.colab.output.renderOutput(dataTable, element);\n",
              "          const docLink = document.createElement('div');\n",
              "          docLink.innerHTML = docLinkHtml;\n",
              "          element.appendChild(docLink);\n",
              "        }\n",
              "      </script>\n",
              "    </div>\n",
              "  </div>\n",
              "  "
            ]
          },
          "metadata": {},
          "execution_count": 35
        }
      ]
    },
    {
      "cell_type": "markdown",
      "source": [
        "## Removing unnecessary rows- i only need the full review and the rating"
      ],
      "metadata": {
        "id": "-tUXrOlZC4AA"
      }
    },
    {
      "cell_type": "code",
      "source": [
        "df=df[[\"review_full\", \"rating_review\" ]]\n",
        "df.head()"
      ],
      "metadata": {
        "colab": {
          "base_uri": "https://localhost:8080/",
          "height": 359
        },
        "id": "3YqemLXNLvbM",
        "outputId": "5c062172-ebbf-41d9-ae3f-eece38bb7eb2"
      },
      "execution_count": 38,
      "outputs": [
        {
          "output_type": "execute_result",
          "data": {
            "text/plain": [
              "                                              review_full rating_review\n",
              "43918   As my husband and I were walking around search...             5\n",
              "274649  Had a nice time as a solo diner during Restaur...             4\n",
              "205536  This is the best pizza I have tasted in New Yo...             5\n",
              "117557  Good food service good. Pricey for what it was...             3\n",
              "477248  The crust is just perfect. You can pick your t...             5\n",
              "497596  Of course after asking my hotelI got this nice...             4\n",
              "111531  Walking from Central Park, past looking for It...             5\n",
              "154192  Ate here several times during my stay in NYC a...             4\n",
              "386641  This place is rated to have one of the best Eg...             5\n",
              "205177  We needed food - fast - and picked this place....             5"
            ],
            "text/html": [
              "\n",
              "  <div id=\"df-c5c21de4-30f8-470e-a09d-a24a43560a0f\">\n",
              "    <div class=\"colab-df-container\">\n",
              "      <div>\n",
              "<style scoped>\n",
              "    .dataframe tbody tr th:only-of-type {\n",
              "        vertical-align: middle;\n",
              "    }\n",
              "\n",
              "    .dataframe tbody tr th {\n",
              "        vertical-align: top;\n",
              "    }\n",
              "\n",
              "    .dataframe thead th {\n",
              "        text-align: right;\n",
              "    }\n",
              "</style>\n",
              "<table border=\"1\" class=\"dataframe\">\n",
              "  <thead>\n",
              "    <tr style=\"text-align: right;\">\n",
              "      <th></th>\n",
              "      <th>review_full</th>\n",
              "      <th>rating_review</th>\n",
              "    </tr>\n",
              "  </thead>\n",
              "  <tbody>\n",
              "    <tr>\n",
              "      <th>43918</th>\n",
              "      <td>As my husband and I were walking around search...</td>\n",
              "      <td>5</td>\n",
              "    </tr>\n",
              "    <tr>\n",
              "      <th>274649</th>\n",
              "      <td>Had a nice time as a solo diner during Restaur...</td>\n",
              "      <td>4</td>\n",
              "    </tr>\n",
              "    <tr>\n",
              "      <th>205536</th>\n",
              "      <td>This is the best pizza I have tasted in New Yo...</td>\n",
              "      <td>5</td>\n",
              "    </tr>\n",
              "    <tr>\n",
              "      <th>117557</th>\n",
              "      <td>Good food service good. Pricey for what it was...</td>\n",
              "      <td>3</td>\n",
              "    </tr>\n",
              "    <tr>\n",
              "      <th>477248</th>\n",
              "      <td>The crust is just perfect. You can pick your t...</td>\n",
              "      <td>5</td>\n",
              "    </tr>\n",
              "    <tr>\n",
              "      <th>497596</th>\n",
              "      <td>Of course after asking my hotelI got this nice...</td>\n",
              "      <td>4</td>\n",
              "    </tr>\n",
              "    <tr>\n",
              "      <th>111531</th>\n",
              "      <td>Walking from Central Park, past looking for It...</td>\n",
              "      <td>5</td>\n",
              "    </tr>\n",
              "    <tr>\n",
              "      <th>154192</th>\n",
              "      <td>Ate here several times during my stay in NYC a...</td>\n",
              "      <td>4</td>\n",
              "    </tr>\n",
              "    <tr>\n",
              "      <th>386641</th>\n",
              "      <td>This place is rated to have one of the best Eg...</td>\n",
              "      <td>5</td>\n",
              "    </tr>\n",
              "    <tr>\n",
              "      <th>205177</th>\n",
              "      <td>We needed food - fast - and picked this place....</td>\n",
              "      <td>5</td>\n",
              "    </tr>\n",
              "  </tbody>\n",
              "</table>\n",
              "</div>\n",
              "      <button class=\"colab-df-convert\" onclick=\"convertToInteractive('df-c5c21de4-30f8-470e-a09d-a24a43560a0f')\"\n",
              "              title=\"Convert this dataframe to an interactive table.\"\n",
              "              style=\"display:none;\">\n",
              "        \n",
              "  <svg xmlns=\"http://www.w3.org/2000/svg\" height=\"24px\"viewBox=\"0 0 24 24\"\n",
              "       width=\"24px\">\n",
              "    <path d=\"M0 0h24v24H0V0z\" fill=\"none\"/>\n",
              "    <path d=\"M18.56 5.44l.94 2.06.94-2.06 2.06-.94-2.06-.94-.94-2.06-.94 2.06-2.06.94zm-11 1L8.5 8.5l.94-2.06 2.06-.94-2.06-.94L8.5 2.5l-.94 2.06-2.06.94zm10 10l.94 2.06.94-2.06 2.06-.94-2.06-.94-.94-2.06-.94 2.06-2.06.94z\"/><path d=\"M17.41 7.96l-1.37-1.37c-.4-.4-.92-.59-1.43-.59-.52 0-1.04.2-1.43.59L10.3 9.45l-7.72 7.72c-.78.78-.78 2.05 0 2.83L4 21.41c.39.39.9.59 1.41.59.51 0 1.02-.2 1.41-.59l7.78-7.78 2.81-2.81c.8-.78.8-2.07 0-2.86zM5.41 20L4 18.59l7.72-7.72 1.47 1.35L5.41 20z\"/>\n",
              "  </svg>\n",
              "      </button>\n",
              "      \n",
              "  <style>\n",
              "    .colab-df-container {\n",
              "      display:flex;\n",
              "      flex-wrap:wrap;\n",
              "      gap: 12px;\n",
              "    }\n",
              "\n",
              "    .colab-df-convert {\n",
              "      background-color: #E8F0FE;\n",
              "      border: none;\n",
              "      border-radius: 50%;\n",
              "      cursor: pointer;\n",
              "      display: none;\n",
              "      fill: #1967D2;\n",
              "      height: 32px;\n",
              "      padding: 0 0 0 0;\n",
              "      width: 32px;\n",
              "    }\n",
              "\n",
              "    .colab-df-convert:hover {\n",
              "      background-color: #E2EBFA;\n",
              "      box-shadow: 0px 1px 2px rgba(60, 64, 67, 0.3), 0px 1px 3px 1px rgba(60, 64, 67, 0.15);\n",
              "      fill: #174EA6;\n",
              "    }\n",
              "\n",
              "    [theme=dark] .colab-df-convert {\n",
              "      background-color: #3B4455;\n",
              "      fill: #D2E3FC;\n",
              "    }\n",
              "\n",
              "    [theme=dark] .colab-df-convert:hover {\n",
              "      background-color: #434B5C;\n",
              "      box-shadow: 0px 1px 3px 1px rgba(0, 0, 0, 0.15);\n",
              "      filter: drop-shadow(0px 1px 2px rgba(0, 0, 0, 0.3));\n",
              "      fill: #FFFFFF;\n",
              "    }\n",
              "  </style>\n",
              "\n",
              "      <script>\n",
              "        const buttonEl =\n",
              "          document.querySelector('#df-c5c21de4-30f8-470e-a09d-a24a43560a0f button.colab-df-convert');\n",
              "        buttonEl.style.display =\n",
              "          google.colab.kernel.accessAllowed ? 'block' : 'none';\n",
              "\n",
              "        async function convertToInteractive(key) {\n",
              "          const element = document.querySelector('#df-c5c21de4-30f8-470e-a09d-a24a43560a0f');\n",
              "          const dataTable =\n",
              "            await google.colab.kernel.invokeFunction('convertToInteractive',\n",
              "                                                     [key], {});\n",
              "          if (!dataTable) return;\n",
              "\n",
              "          const docLinkHtml = 'Like what you see? Visit the ' +\n",
              "            '<a target=\"_blank\" href=https://colab.research.google.com/notebooks/data_table.ipynb>data table notebook</a>'\n",
              "            + ' to learn more about interactive tables.';\n",
              "          element.innerHTML = '';\n",
              "          dataTable['output_type'] = 'display_data';\n",
              "          await google.colab.output.renderOutput(dataTable, element);\n",
              "          const docLink = document.createElement('div');\n",
              "          docLink.innerHTML = docLinkHtml;\n",
              "          element.appendChild(docLink);\n",
              "        }\n",
              "      </script>\n",
              "    </div>\n",
              "  </div>\n",
              "  "
            ]
          },
          "metadata": {},
          "execution_count": 38
        }
      ]
    },
    {
      "cell_type": "markdown",
      "metadata": {
        "papermill": {
          "duration": 0.084612,
          "end_time": "2020-10-16T12:02:23.447178",
          "exception": false,
          "start_time": "2020-10-16T12:02:23.362566",
          "status": "completed"
        },
        "tags": [],
        "id": "0FVODFP_76Na"
      },
      "source": [
        "# Sentiment Visualisation"
      ]
    },
    {
      "cell_type": "code",
      "execution_count": 39,
      "metadata": {
        "execution": {
          "iopub.execute_input": "2020-10-16T12:02:23.630049Z",
          "iopub.status.busy": "2020-10-16T12:02:23.628269Z",
          "iopub.status.idle": "2020-10-16T12:02:23.630842Z",
          "shell.execute_reply": "2020-10-16T12:02:23.631382Z"
        },
        "papermill": {
          "duration": 0.096711,
          "end_time": "2020-10-16T12:02:23.631516",
          "exception": false,
          "start_time": "2020-10-16T12:02:23.534805",
          "status": "completed"
        },
        "tags": [],
        "id": "IG7hZJn476Nb"
      },
      "outputs": [],
      "source": [
        "pos = [4, 5]\n",
        "neg = [1, 2]\n",
        "neu = [3]\n",
        "\n",
        "def sentiment(rating):\n",
        "  if rating in pos:\n",
        "    return 2\n",
        "  elif rating in neg:\n",
        "    return 0\n",
        "  else:\n",
        "    return 1  "
      ]
    },
    {
      "cell_type": "code",
      "execution_count": 40,
      "metadata": {
        "execution": {
          "iopub.execute_input": "2020-10-16T12:02:23.833728Z",
          "iopub.status.busy": "2020-10-16T12:02:23.832721Z",
          "iopub.status.idle": "2020-10-16T12:02:23.837141Z",
          "shell.execute_reply": "2020-10-16T12:02:23.837796Z"
        },
        "papermill": {
          "duration": 0.120713,
          "end_time": "2020-10-16T12:02:23.838144",
          "exception": false,
          "start_time": "2020-10-16T12:02:23.717431",
          "status": "completed"
        },
        "tags": [],
        "colab": {
          "base_uri": "https://localhost:8080/",
          "height": 204
        },
        "id": "GIREtI5k76Nc",
        "outputId": "d07c285a-c220-43cc-e9ad-72dd94671100"
      },
      "outputs": [
        {
          "output_type": "execute_result",
          "data": {
            "text/plain": [
              "                                              review_full rating_review  \\\n",
              "43918   As my husband and I were walking around search...             5   \n",
              "274649  Had a nice time as a solo diner during Restaur...             4   \n",
              "205536  This is the best pizza I have tasted in New Yo...             5   \n",
              "117557  Good food service good. Pricey for what it was...             3   \n",
              "477248  The crust is just perfect. You can pick your t...             5   \n",
              "\n",
              "        Sentiment  \n",
              "43918           2  \n",
              "274649          1  \n",
              "205536          2  \n",
              "117557          1  \n",
              "477248          2  "
            ],
            "text/html": [
              "\n",
              "  <div id=\"df-c26c4bd6-6cbe-46dc-a269-27838553c476\">\n",
              "    <div class=\"colab-df-container\">\n",
              "      <div>\n",
              "<style scoped>\n",
              "    .dataframe tbody tr th:only-of-type {\n",
              "        vertical-align: middle;\n",
              "    }\n",
              "\n",
              "    .dataframe tbody tr th {\n",
              "        vertical-align: top;\n",
              "    }\n",
              "\n",
              "    .dataframe thead th {\n",
              "        text-align: right;\n",
              "    }\n",
              "</style>\n",
              "<table border=\"1\" class=\"dataframe\">\n",
              "  <thead>\n",
              "    <tr style=\"text-align: right;\">\n",
              "      <th></th>\n",
              "      <th>review_full</th>\n",
              "      <th>rating_review</th>\n",
              "      <th>Sentiment</th>\n",
              "    </tr>\n",
              "  </thead>\n",
              "  <tbody>\n",
              "    <tr>\n",
              "      <th>43918</th>\n",
              "      <td>As my husband and I were walking around search...</td>\n",
              "      <td>5</td>\n",
              "      <td>2</td>\n",
              "    </tr>\n",
              "    <tr>\n",
              "      <th>274649</th>\n",
              "      <td>Had a nice time as a solo diner during Restaur...</td>\n",
              "      <td>4</td>\n",
              "      <td>1</td>\n",
              "    </tr>\n",
              "    <tr>\n",
              "      <th>205536</th>\n",
              "      <td>This is the best pizza I have tasted in New Yo...</td>\n",
              "      <td>5</td>\n",
              "      <td>2</td>\n",
              "    </tr>\n",
              "    <tr>\n",
              "      <th>117557</th>\n",
              "      <td>Good food service good. Pricey for what it was...</td>\n",
              "      <td>3</td>\n",
              "      <td>1</td>\n",
              "    </tr>\n",
              "    <tr>\n",
              "      <th>477248</th>\n",
              "      <td>The crust is just perfect. You can pick your t...</td>\n",
              "      <td>5</td>\n",
              "      <td>2</td>\n",
              "    </tr>\n",
              "  </tbody>\n",
              "</table>\n",
              "</div>\n",
              "      <button class=\"colab-df-convert\" onclick=\"convertToInteractive('df-c26c4bd6-6cbe-46dc-a269-27838553c476')\"\n",
              "              title=\"Convert this dataframe to an interactive table.\"\n",
              "              style=\"display:none;\">\n",
              "        \n",
              "  <svg xmlns=\"http://www.w3.org/2000/svg\" height=\"24px\"viewBox=\"0 0 24 24\"\n",
              "       width=\"24px\">\n",
              "    <path d=\"M0 0h24v24H0V0z\" fill=\"none\"/>\n",
              "    <path d=\"M18.56 5.44l.94 2.06.94-2.06 2.06-.94-2.06-.94-.94-2.06-.94 2.06-2.06.94zm-11 1L8.5 8.5l.94-2.06 2.06-.94-2.06-.94L8.5 2.5l-.94 2.06-2.06.94zm10 10l.94 2.06.94-2.06 2.06-.94-2.06-.94-.94-2.06-.94 2.06-2.06.94z\"/><path d=\"M17.41 7.96l-1.37-1.37c-.4-.4-.92-.59-1.43-.59-.52 0-1.04.2-1.43.59L10.3 9.45l-7.72 7.72c-.78.78-.78 2.05 0 2.83L4 21.41c.39.39.9.59 1.41.59.51 0 1.02-.2 1.41-.59l7.78-7.78 2.81-2.81c.8-.78.8-2.07 0-2.86zM5.41 20L4 18.59l7.72-7.72 1.47 1.35L5.41 20z\"/>\n",
              "  </svg>\n",
              "      </button>\n",
              "      \n",
              "  <style>\n",
              "    .colab-df-container {\n",
              "      display:flex;\n",
              "      flex-wrap:wrap;\n",
              "      gap: 12px;\n",
              "    }\n",
              "\n",
              "    .colab-df-convert {\n",
              "      background-color: #E8F0FE;\n",
              "      border: none;\n",
              "      border-radius: 50%;\n",
              "      cursor: pointer;\n",
              "      display: none;\n",
              "      fill: #1967D2;\n",
              "      height: 32px;\n",
              "      padding: 0 0 0 0;\n",
              "      width: 32px;\n",
              "    }\n",
              "\n",
              "    .colab-df-convert:hover {\n",
              "      background-color: #E2EBFA;\n",
              "      box-shadow: 0px 1px 2px rgba(60, 64, 67, 0.3), 0px 1px 3px 1px rgba(60, 64, 67, 0.15);\n",
              "      fill: #174EA6;\n",
              "    }\n",
              "\n",
              "    [theme=dark] .colab-df-convert {\n",
              "      background-color: #3B4455;\n",
              "      fill: #D2E3FC;\n",
              "    }\n",
              "\n",
              "    [theme=dark] .colab-df-convert:hover {\n",
              "      background-color: #434B5C;\n",
              "      box-shadow: 0px 1px 3px 1px rgba(0, 0, 0, 0.15);\n",
              "      filter: drop-shadow(0px 1px 2px rgba(0, 0, 0, 0.3));\n",
              "      fill: #FFFFFF;\n",
              "    }\n",
              "  </style>\n",
              "\n",
              "      <script>\n",
              "        const buttonEl =\n",
              "          document.querySelector('#df-c26c4bd6-6cbe-46dc-a269-27838553c476 button.colab-df-convert');\n",
              "        buttonEl.style.display =\n",
              "          google.colab.kernel.accessAllowed ? 'block' : 'none';\n",
              "\n",
              "        async function convertToInteractive(key) {\n",
              "          const element = document.querySelector('#df-c26c4bd6-6cbe-46dc-a269-27838553c476');\n",
              "          const dataTable =\n",
              "            await google.colab.kernel.invokeFunction('convertToInteractive',\n",
              "                                                     [key], {});\n",
              "          if (!dataTable) return;\n",
              "\n",
              "          const docLinkHtml = 'Like what you see? Visit the ' +\n",
              "            '<a target=\"_blank\" href=https://colab.research.google.com/notebooks/data_table.ipynb>data table notebook</a>'\n",
              "            + ' to learn more about interactive tables.';\n",
              "          element.innerHTML = '';\n",
              "          dataTable['output_type'] = 'display_data';\n",
              "          await google.colab.output.renderOutput(dataTable, element);\n",
              "          const docLink = document.createElement('div');\n",
              "          docLink.innerHTML = docLinkHtml;\n",
              "          element.appendChild(docLink);\n",
              "        }\n",
              "      </script>\n",
              "    </div>\n",
              "  </div>\n",
              "  "
            ]
          },
          "metadata": {},
          "execution_count": 40
        }
      ],
      "source": [
        "df['Sentiment'] = df['rating_review'].apply(sentiment)\n",
        "df.head()"
      ]
    },
    {
      "cell_type": "code",
      "execution_count": 41,
      "metadata": {
        "execution": {
          "iopub.execute_input": "2020-10-16T12:02:24.017274Z",
          "iopub.status.busy": "2020-10-16T12:02:24.016524Z",
          "iopub.status.idle": "2020-10-16T12:02:24.139935Z",
          "shell.execute_reply": "2020-10-16T12:02:24.140429Z"
        },
        "papermill": {
          "duration": 0.216769,
          "end_time": "2020-10-16T12:02:24.140604",
          "exception": false,
          "start_time": "2020-10-16T12:02:23.923835",
          "status": "completed"
        },
        "tags": [],
        "colab": {
          "base_uri": "https://localhost:8080/",
          "height": 542
        },
        "id": "kGDLdYfw76Nd",
        "outputId": "63d05ef2-e4b8-406b-813f-7f236bf958ae"
      },
      "outputs": [
        {
          "output_type": "display_data",
          "data": {
            "text/html": [
              "<html>\n",
              "<head><meta charset=\"utf-8\" /></head>\n",
              "<body>\n",
              "    <div>            <script src=\"https://cdnjs.cloudflare.com/ajax/libs/mathjax/2.7.5/MathJax.js?config=TeX-AMS-MML_SVG\"></script><script type=\"text/javascript\">if (window.MathJax) {MathJax.Hub.Config({SVG: {font: \"STIX-Web\"}});}</script>                <script type=\"text/javascript\">window.PlotlyConfig = {MathJaxConfig: 'local'};</script>\n",
              "        <script src=\"https://cdn.plot.ly/plotly-2.8.3.min.js\"></script>                <div id=\"90676f1e-08f8-47f6-b495-249e004c3faf\" class=\"plotly-graph-div\" style=\"height:525px; width:100%;\"></div>            <script type=\"text/javascript\">                                    window.PLOTLYENV=window.PLOTLYENV || {};                                    if (document.getElementById(\"90676f1e-08f8-47f6-b495-249e004c3faf\")) {                    Plotly.newPlot(                        \"90676f1e-08f8-47f6-b495-249e004c3faf\",                        [{\"x\":[2,1,0],\"y\":[7127,2237,636],\"type\":\"bar\"}],                        {\"template\":{\"data\":{\"bar\":[{\"error_x\":{\"color\":\"#2a3f5f\"},\"error_y\":{\"color\":\"#2a3f5f\"},\"marker\":{\"line\":{\"color\":\"#E5ECF6\",\"width\":0.5},\"pattern\":{\"fillmode\":\"overlay\",\"size\":10,\"solidity\":0.2}},\"type\":\"bar\"}],\"barpolar\":[{\"marker\":{\"line\":{\"color\":\"#E5ECF6\",\"width\":0.5},\"pattern\":{\"fillmode\":\"overlay\",\"size\":10,\"solidity\":0.2}},\"type\":\"barpolar\"}],\"carpet\":[{\"aaxis\":{\"endlinecolor\":\"#2a3f5f\",\"gridcolor\":\"white\",\"linecolor\":\"white\",\"minorgridcolor\":\"white\",\"startlinecolor\":\"#2a3f5f\"},\"baxis\":{\"endlinecolor\":\"#2a3f5f\",\"gridcolor\":\"white\",\"linecolor\":\"white\",\"minorgridcolor\":\"white\",\"startlinecolor\":\"#2a3f5f\"},\"type\":\"carpet\"}],\"choropleth\":[{\"colorbar\":{\"outlinewidth\":0,\"ticks\":\"\"},\"type\":\"choropleth\"}],\"contour\":[{\"colorbar\":{\"outlinewidth\":0,\"ticks\":\"\"},\"colorscale\":[[0.0,\"#0d0887\"],[0.1111111111111111,\"#46039f\"],[0.2222222222222222,\"#7201a8\"],[0.3333333333333333,\"#9c179e\"],[0.4444444444444444,\"#bd3786\"],[0.5555555555555556,\"#d8576b\"],[0.6666666666666666,\"#ed7953\"],[0.7777777777777778,\"#fb9f3a\"],[0.8888888888888888,\"#fdca26\"],[1.0,\"#f0f921\"]],\"type\":\"contour\"}],\"contourcarpet\":[{\"colorbar\":{\"outlinewidth\":0,\"ticks\":\"\"},\"type\":\"contourcarpet\"}],\"heatmap\":[{\"colorbar\":{\"outlinewidth\":0,\"ticks\":\"\"},\"colorscale\":[[0.0,\"#0d0887\"],[0.1111111111111111,\"#46039f\"],[0.2222222222222222,\"#7201a8\"],[0.3333333333333333,\"#9c179e\"],[0.4444444444444444,\"#bd3786\"],[0.5555555555555556,\"#d8576b\"],[0.6666666666666666,\"#ed7953\"],[0.7777777777777778,\"#fb9f3a\"],[0.8888888888888888,\"#fdca26\"],[1.0,\"#f0f921\"]],\"type\":\"heatmap\"}],\"heatmapgl\":[{\"colorbar\":{\"outlinewidth\":0,\"ticks\":\"\"},\"colorscale\":[[0.0,\"#0d0887\"],[0.1111111111111111,\"#46039f\"],[0.2222222222222222,\"#7201a8\"],[0.3333333333333333,\"#9c179e\"],[0.4444444444444444,\"#bd3786\"],[0.5555555555555556,\"#d8576b\"],[0.6666666666666666,\"#ed7953\"],[0.7777777777777778,\"#fb9f3a\"],[0.8888888888888888,\"#fdca26\"],[1.0,\"#f0f921\"]],\"type\":\"heatmapgl\"}],\"histogram\":[{\"marker\":{\"pattern\":{\"fillmode\":\"overlay\",\"size\":10,\"solidity\":0.2}},\"type\":\"histogram\"}],\"histogram2d\":[{\"colorbar\":{\"outlinewidth\":0,\"ticks\":\"\"},\"colorscale\":[[0.0,\"#0d0887\"],[0.1111111111111111,\"#46039f\"],[0.2222222222222222,\"#7201a8\"],[0.3333333333333333,\"#9c179e\"],[0.4444444444444444,\"#bd3786\"],[0.5555555555555556,\"#d8576b\"],[0.6666666666666666,\"#ed7953\"],[0.7777777777777778,\"#fb9f3a\"],[0.8888888888888888,\"#fdca26\"],[1.0,\"#f0f921\"]],\"type\":\"histogram2d\"}],\"histogram2dcontour\":[{\"colorbar\":{\"outlinewidth\":0,\"ticks\":\"\"},\"colorscale\":[[0.0,\"#0d0887\"],[0.1111111111111111,\"#46039f\"],[0.2222222222222222,\"#7201a8\"],[0.3333333333333333,\"#9c179e\"],[0.4444444444444444,\"#bd3786\"],[0.5555555555555556,\"#d8576b\"],[0.6666666666666666,\"#ed7953\"],[0.7777777777777778,\"#fb9f3a\"],[0.8888888888888888,\"#fdca26\"],[1.0,\"#f0f921\"]],\"type\":\"histogram2dcontour\"}],\"mesh3d\":[{\"colorbar\":{\"outlinewidth\":0,\"ticks\":\"\"},\"type\":\"mesh3d\"}],\"parcoords\":[{\"line\":{\"colorbar\":{\"outlinewidth\":0,\"ticks\":\"\"}},\"type\":\"parcoords\"}],\"pie\":[{\"automargin\":true,\"type\":\"pie\"}],\"scatter\":[{\"marker\":{\"colorbar\":{\"outlinewidth\":0,\"ticks\":\"\"}},\"type\":\"scatter\"}],\"scatter3d\":[{\"line\":{\"colorbar\":{\"outlinewidth\":0,\"ticks\":\"\"}},\"marker\":{\"colorbar\":{\"outlinewidth\":0,\"ticks\":\"\"}},\"type\":\"scatter3d\"}],\"scattercarpet\":[{\"marker\":{\"colorbar\":{\"outlinewidth\":0,\"ticks\":\"\"}},\"type\":\"scattercarpet\"}],\"scattergeo\":[{\"marker\":{\"colorbar\":{\"outlinewidth\":0,\"ticks\":\"\"}},\"type\":\"scattergeo\"}],\"scattergl\":[{\"marker\":{\"colorbar\":{\"outlinewidth\":0,\"ticks\":\"\"}},\"type\":\"scattergl\"}],\"scattermapbox\":[{\"marker\":{\"colorbar\":{\"outlinewidth\":0,\"ticks\":\"\"}},\"type\":\"scattermapbox\"}],\"scatterpolar\":[{\"marker\":{\"colorbar\":{\"outlinewidth\":0,\"ticks\":\"\"}},\"type\":\"scatterpolar\"}],\"scatterpolargl\":[{\"marker\":{\"colorbar\":{\"outlinewidth\":0,\"ticks\":\"\"}},\"type\":\"scatterpolargl\"}],\"scatterternary\":[{\"marker\":{\"colorbar\":{\"outlinewidth\":0,\"ticks\":\"\"}},\"type\":\"scatterternary\"}],\"surface\":[{\"colorbar\":{\"outlinewidth\":0,\"ticks\":\"\"},\"colorscale\":[[0.0,\"#0d0887\"],[0.1111111111111111,\"#46039f\"],[0.2222222222222222,\"#7201a8\"],[0.3333333333333333,\"#9c179e\"],[0.4444444444444444,\"#bd3786\"],[0.5555555555555556,\"#d8576b\"],[0.6666666666666666,\"#ed7953\"],[0.7777777777777778,\"#fb9f3a\"],[0.8888888888888888,\"#fdca26\"],[1.0,\"#f0f921\"]],\"type\":\"surface\"}],\"table\":[{\"cells\":{\"fill\":{\"color\":\"#EBF0F8\"},\"line\":{\"color\":\"white\"}},\"header\":{\"fill\":{\"color\":\"#C8D4E3\"},\"line\":{\"color\":\"white\"}},\"type\":\"table\"}]},\"layout\":{\"annotationdefaults\":{\"arrowcolor\":\"#2a3f5f\",\"arrowhead\":0,\"arrowwidth\":1},\"autotypenumbers\":\"strict\",\"coloraxis\":{\"colorbar\":{\"outlinewidth\":0,\"ticks\":\"\"}},\"colorscale\":{\"diverging\":[[0,\"#8e0152\"],[0.1,\"#c51b7d\"],[0.2,\"#de77ae\"],[0.3,\"#f1b6da\"],[0.4,\"#fde0ef\"],[0.5,\"#f7f7f7\"],[0.6,\"#e6f5d0\"],[0.7,\"#b8e186\"],[0.8,\"#7fbc41\"],[0.9,\"#4d9221\"],[1,\"#276419\"]],\"sequential\":[[0.0,\"#0d0887\"],[0.1111111111111111,\"#46039f\"],[0.2222222222222222,\"#7201a8\"],[0.3333333333333333,\"#9c179e\"],[0.4444444444444444,\"#bd3786\"],[0.5555555555555556,\"#d8576b\"],[0.6666666666666666,\"#ed7953\"],[0.7777777777777778,\"#fb9f3a\"],[0.8888888888888888,\"#fdca26\"],[1.0,\"#f0f921\"]],\"sequentialminus\":[[0.0,\"#0d0887\"],[0.1111111111111111,\"#46039f\"],[0.2222222222222222,\"#7201a8\"],[0.3333333333333333,\"#9c179e\"],[0.4444444444444444,\"#bd3786\"],[0.5555555555555556,\"#d8576b\"],[0.6666666666666666,\"#ed7953\"],[0.7777777777777778,\"#fb9f3a\"],[0.8888888888888888,\"#fdca26\"],[1.0,\"#f0f921\"]]},\"colorway\":[\"#636efa\",\"#EF553B\",\"#00cc96\",\"#ab63fa\",\"#FFA15A\",\"#19d3f3\",\"#FF6692\",\"#B6E880\",\"#FF97FF\",\"#FECB52\"],\"font\":{\"color\":\"#2a3f5f\"},\"geo\":{\"bgcolor\":\"white\",\"lakecolor\":\"white\",\"landcolor\":\"#E5ECF6\",\"showlakes\":true,\"showland\":true,\"subunitcolor\":\"white\"},\"hoverlabel\":{\"align\":\"left\"},\"hovermode\":\"closest\",\"mapbox\":{\"style\":\"light\"},\"paper_bgcolor\":\"white\",\"plot_bgcolor\":\"#E5ECF6\",\"polar\":{\"angularaxis\":{\"gridcolor\":\"white\",\"linecolor\":\"white\",\"ticks\":\"\"},\"bgcolor\":\"#E5ECF6\",\"radialaxis\":{\"gridcolor\":\"white\",\"linecolor\":\"white\",\"ticks\":\"\"}},\"scene\":{\"xaxis\":{\"backgroundcolor\":\"#E5ECF6\",\"gridcolor\":\"white\",\"gridwidth\":2,\"linecolor\":\"white\",\"showbackground\":true,\"ticks\":\"\",\"zerolinecolor\":\"white\"},\"yaxis\":{\"backgroundcolor\":\"#E5ECF6\",\"gridcolor\":\"white\",\"gridwidth\":2,\"linecolor\":\"white\",\"showbackground\":true,\"ticks\":\"\",\"zerolinecolor\":\"white\"},\"zaxis\":{\"backgroundcolor\":\"#E5ECF6\",\"gridcolor\":\"white\",\"gridwidth\":2,\"linecolor\":\"white\",\"showbackground\":true,\"ticks\":\"\",\"zerolinecolor\":\"white\"}},\"shapedefaults\":{\"line\":{\"color\":\"#2a3f5f\"}},\"ternary\":{\"aaxis\":{\"gridcolor\":\"white\",\"linecolor\":\"white\",\"ticks\":\"\"},\"baxis\":{\"gridcolor\":\"white\",\"linecolor\":\"white\",\"ticks\":\"\"},\"bgcolor\":\"#E5ECF6\",\"caxis\":{\"gridcolor\":\"white\",\"linecolor\":\"white\",\"ticks\":\"\"}},\"title\":{\"x\":0.05},\"xaxis\":{\"automargin\":true,\"gridcolor\":\"white\",\"linecolor\":\"white\",\"ticks\":\"\",\"title\":{\"standoff\":15},\"zerolinecolor\":\"white\",\"zerolinewidth\":2},\"yaxis\":{\"automargin\":true,\"gridcolor\":\"white\",\"linecolor\":\"white\",\"ticks\":\"\",\"title\":{\"standoff\":15},\"zerolinecolor\":\"white\",\"zerolinewidth\":2}}},\"title\":{\"text\":\"Values in each Sentiment\"},\"xaxis\":{\"title\":{\"text\":\"Sentiment\"}},\"yaxis\":{\"title\":{\"text\":\"Values\"}}},                        {\"responsive\": true}                    ).then(function(){\n",
              "                            \n",
              "var gd = document.getElementById('90676f1e-08f8-47f6-b495-249e004c3faf');\n",
              "var x = new MutationObserver(function (mutations, observer) {{\n",
              "        var display = window.getComputedStyle(gd).display;\n",
              "        if (!display || display === 'none') {{\n",
              "            console.log([gd, 'removed!']);\n",
              "            Plotly.purge(gd);\n",
              "            observer.disconnect();\n",
              "        }}\n",
              "}});\n",
              "\n",
              "// Listen for the removal of the full notebook cells\n",
              "var notebookContainer = gd.closest('#notebook-container');\n",
              "if (notebookContainer) {{\n",
              "    x.observe(notebookContainer, {childList: true});\n",
              "}}\n",
              "\n",
              "// Listen for the clearing of the current output cell\n",
              "var outputEl = gd.closest('.output');\n",
              "if (outputEl) {{\n",
              "    x.observe(outputEl, {childList: true});\n",
              "}}\n",
              "\n",
              "                        })                };                            </script>        </div>\n",
              "</body>\n",
              "</html>"
            ]
          },
          "metadata": {}
        }
      ],
      "source": [
        "fig = go.Figure([go.Bar(x=df.Sentiment.value_counts().index, y=df.Sentiment.value_counts().tolist())])\n",
        "fig.update_layout(\n",
        "    title=\"Values in each Sentiment\",\n",
        "    xaxis_title=\"Sentiment\",\n",
        "    yaxis_title=\"Values\")\n",
        "fig.show()"
      ]
    },
    {
      "cell_type": "markdown",
      "metadata": {
        "papermill": {
          "duration": 0.087271,
          "end_time": "2020-10-16T12:02:24.316429",
          "exception": false,
          "start_time": "2020-10-16T12:02:24.229158",
          "status": "completed"
        },
        "tags": [],
        "id": "QiV5XDJK76Ne"
      },
      "source": [
        "\n",
        "2 - Positive (4, 5)<br>\n",
        "1 - Neutral (3)<br>\n",
        "0 - Negative (1, 2)\n",
        "\n",
        "More good reviews that bad\n"
      ]
    },
    {
      "cell_type": "markdown",
      "metadata": {
        "papermill": {
          "duration": 0.08443,
          "end_time": "2020-10-16T12:02:24.486534",
          "exception": false,
          "start_time": "2020-10-16T12:02:24.402104",
          "status": "completed"
        },
        "tags": [],
        "id": "0O7adJKC76Nf"
      },
      "source": [
        "## Wordclouds of each Sentiment\n",
        "\n",
        "Let us now look at the word distribution overrall and for each sentiment."
      ]
    },
    {
      "cell_type": "code",
      "execution_count": 42,
      "metadata": {
        "execution": {
          "iopub.execute_input": "2020-10-16T12:02:24.665494Z",
          "iopub.status.busy": "2020-10-16T12:02:24.664357Z",
          "iopub.status.idle": "2020-10-16T12:02:25.959891Z",
          "shell.execute_reply": "2020-10-16T12:02:25.958306Z"
        },
        "papermill": {
          "duration": 1.388001,
          "end_time": "2020-10-16T12:02:25.960013",
          "exception": false,
          "start_time": "2020-10-16T12:02:24.572012",
          "status": "completed"
        },
        "tags": [],
        "id": "jHwrU3zh76Nf"
      },
      "outputs": [],
      "source": [
        "import spacy\n",
        "nlp = spacy.load('en_core_web_sm')\n",
        "\n",
        "def normalize(msg):\n",
        "    \n",
        "    doc = nlp(msg)\n",
        "    res = []\n",
        "    \n",
        "    for token in doc:\n",
        "        if(token.is_stop or token.is_punct or token.is_space):\n",
        "            pass\n",
        "        else:\n",
        "            res.append(token.lemma_.lower())\n",
        "            \n",
        "    return res"
      ]
    },
    {
      "cell_type": "code",
      "execution_count": 43,
      "metadata": {
        "execution": {
          "iopub.execute_input": "2020-10-16T12:02:26.147404Z",
          "iopub.status.busy": "2020-10-16T12:02:26.146286Z",
          "iopub.status.idle": "2020-10-16T12:11:13.618049Z",
          "shell.execute_reply": "2020-10-16T12:11:13.618608Z"
        },
        "papermill": {
          "duration": 527.571656,
          "end_time": "2020-10-16T12:11:13.618780",
          "exception": false,
          "start_time": "2020-10-16T12:02:26.047124",
          "status": "completed"
        },
        "tags": [],
        "id": "B3-l3gwo76Ng",
        "colab": {
          "base_uri": "https://localhost:8080/",
          "height": 204
        },
        "outputId": "1976a06e-8c8b-4e32-d11a-734ea1005849"
      },
      "outputs": [
        {
          "output_type": "execute_result",
          "data": {
            "text/plain": [
              "                                              review_full rating_review  \\\n",
              "43918   [husband, walk, search, place, naturally, find...             5   \n",
              "274649  [nice, time, solo, diner, restaurant, week, pl...             4   \n",
              "205536  [good, pizza, taste, new, york, place, offer, ...             5   \n",
              "117557  [good, food, service, good, pricey, nice, ambi...             3   \n",
              "477248  [crust, perfect, pick, topping, personalized, ...             5   \n",
              "\n",
              "        Sentiment  \n",
              "43918           2  \n",
              "274649          1  \n",
              "205536          2  \n",
              "117557          1  \n",
              "477248          2  "
            ],
            "text/html": [
              "\n",
              "  <div id=\"df-a2d5e526-be40-48b1-818d-34b3e2e83a97\">\n",
              "    <div class=\"colab-df-container\">\n",
              "      <div>\n",
              "<style scoped>\n",
              "    .dataframe tbody tr th:only-of-type {\n",
              "        vertical-align: middle;\n",
              "    }\n",
              "\n",
              "    .dataframe tbody tr th {\n",
              "        vertical-align: top;\n",
              "    }\n",
              "\n",
              "    .dataframe thead th {\n",
              "        text-align: right;\n",
              "    }\n",
              "</style>\n",
              "<table border=\"1\" class=\"dataframe\">\n",
              "  <thead>\n",
              "    <tr style=\"text-align: right;\">\n",
              "      <th></th>\n",
              "      <th>review_full</th>\n",
              "      <th>rating_review</th>\n",
              "      <th>Sentiment</th>\n",
              "    </tr>\n",
              "  </thead>\n",
              "  <tbody>\n",
              "    <tr>\n",
              "      <th>43918</th>\n",
              "      <td>[husband, walk, search, place, naturally, find...</td>\n",
              "      <td>5</td>\n",
              "      <td>2</td>\n",
              "    </tr>\n",
              "    <tr>\n",
              "      <th>274649</th>\n",
              "      <td>[nice, time, solo, diner, restaurant, week, pl...</td>\n",
              "      <td>4</td>\n",
              "      <td>1</td>\n",
              "    </tr>\n",
              "    <tr>\n",
              "      <th>205536</th>\n",
              "      <td>[good, pizza, taste, new, york, place, offer, ...</td>\n",
              "      <td>5</td>\n",
              "      <td>2</td>\n",
              "    </tr>\n",
              "    <tr>\n",
              "      <th>117557</th>\n",
              "      <td>[good, food, service, good, pricey, nice, ambi...</td>\n",
              "      <td>3</td>\n",
              "      <td>1</td>\n",
              "    </tr>\n",
              "    <tr>\n",
              "      <th>477248</th>\n",
              "      <td>[crust, perfect, pick, topping, personalized, ...</td>\n",
              "      <td>5</td>\n",
              "      <td>2</td>\n",
              "    </tr>\n",
              "  </tbody>\n",
              "</table>\n",
              "</div>\n",
              "      <button class=\"colab-df-convert\" onclick=\"convertToInteractive('df-a2d5e526-be40-48b1-818d-34b3e2e83a97')\"\n",
              "              title=\"Convert this dataframe to an interactive table.\"\n",
              "              style=\"display:none;\">\n",
              "        \n",
              "  <svg xmlns=\"http://www.w3.org/2000/svg\" height=\"24px\"viewBox=\"0 0 24 24\"\n",
              "       width=\"24px\">\n",
              "    <path d=\"M0 0h24v24H0V0z\" fill=\"none\"/>\n",
              "    <path d=\"M18.56 5.44l.94 2.06.94-2.06 2.06-.94-2.06-.94-.94-2.06-.94 2.06-2.06.94zm-11 1L8.5 8.5l.94-2.06 2.06-.94-2.06-.94L8.5 2.5l-.94 2.06-2.06.94zm10 10l.94 2.06.94-2.06 2.06-.94-2.06-.94-.94-2.06-.94 2.06-2.06.94z\"/><path d=\"M17.41 7.96l-1.37-1.37c-.4-.4-.92-.59-1.43-.59-.52 0-1.04.2-1.43.59L10.3 9.45l-7.72 7.72c-.78.78-.78 2.05 0 2.83L4 21.41c.39.39.9.59 1.41.59.51 0 1.02-.2 1.41-.59l7.78-7.78 2.81-2.81c.8-.78.8-2.07 0-2.86zM5.41 20L4 18.59l7.72-7.72 1.47 1.35L5.41 20z\"/>\n",
              "  </svg>\n",
              "      </button>\n",
              "      \n",
              "  <style>\n",
              "    .colab-df-container {\n",
              "      display:flex;\n",
              "      flex-wrap:wrap;\n",
              "      gap: 12px;\n",
              "    }\n",
              "\n",
              "    .colab-df-convert {\n",
              "      background-color: #E8F0FE;\n",
              "      border: none;\n",
              "      border-radius: 50%;\n",
              "      cursor: pointer;\n",
              "      display: none;\n",
              "      fill: #1967D2;\n",
              "      height: 32px;\n",
              "      padding: 0 0 0 0;\n",
              "      width: 32px;\n",
              "    }\n",
              "\n",
              "    .colab-df-convert:hover {\n",
              "      background-color: #E2EBFA;\n",
              "      box-shadow: 0px 1px 2px rgba(60, 64, 67, 0.3), 0px 1px 3px 1px rgba(60, 64, 67, 0.15);\n",
              "      fill: #174EA6;\n",
              "    }\n",
              "\n",
              "    [theme=dark] .colab-df-convert {\n",
              "      background-color: #3B4455;\n",
              "      fill: #D2E3FC;\n",
              "    }\n",
              "\n",
              "    [theme=dark] .colab-df-convert:hover {\n",
              "      background-color: #434B5C;\n",
              "      box-shadow: 0px 1px 3px 1px rgba(0, 0, 0, 0.15);\n",
              "      filter: drop-shadow(0px 1px 2px rgba(0, 0, 0, 0.3));\n",
              "      fill: #FFFFFF;\n",
              "    }\n",
              "  </style>\n",
              "\n",
              "      <script>\n",
              "        const buttonEl =\n",
              "          document.querySelector('#df-a2d5e526-be40-48b1-818d-34b3e2e83a97 button.colab-df-convert');\n",
              "        buttonEl.style.display =\n",
              "          google.colab.kernel.accessAllowed ? 'block' : 'none';\n",
              "\n",
              "        async function convertToInteractive(key) {\n",
              "          const element = document.querySelector('#df-a2d5e526-be40-48b1-818d-34b3e2e83a97');\n",
              "          const dataTable =\n",
              "            await google.colab.kernel.invokeFunction('convertToInteractive',\n",
              "                                                     [key], {});\n",
              "          if (!dataTable) return;\n",
              "\n",
              "          const docLinkHtml = 'Like what you see? Visit the ' +\n",
              "            '<a target=\"_blank\" href=https://colab.research.google.com/notebooks/data_table.ipynb>data table notebook</a>'\n",
              "            + ' to learn more about interactive tables.';\n",
              "          element.innerHTML = '';\n",
              "          dataTable['output_type'] = 'display_data';\n",
              "          await google.colab.output.renderOutput(dataTable, element);\n",
              "          const docLink = document.createElement('div');\n",
              "          docLink.innerHTML = docLinkHtml;\n",
              "          element.appendChild(docLink);\n",
              "        }\n",
              "      </script>\n",
              "    </div>\n",
              "  </div>\n",
              "  "
            ]
          },
          "metadata": {},
          "execution_count": 43
        }
      ],
      "source": [
        "df['review_full'] = df['review_full'].apply(normalize)\n",
        "df.head()"
      ]
    },
    {
      "cell_type": "code",
      "execution_count": 44,
      "metadata": {
        "execution": {
          "iopub.execute_input": "2020-10-16T12:11:13.849888Z",
          "iopub.status.busy": "2020-10-16T12:11:13.814068Z",
          "iopub.status.idle": "2020-10-16T12:11:14.395673Z",
          "shell.execute_reply": "2020-10-16T12:11:14.396163Z"
        },
        "papermill": {
          "duration": 0.688609,
          "end_time": "2020-10-16T12:11:14.396304",
          "exception": false,
          "start_time": "2020-10-16T12:11:13.707695",
          "status": "completed"
        },
        "tags": [],
        "id": "2CnrA2cI76Nh",
        "colab": {
          "base_uri": "https://localhost:8080/",
          "height": 514
        },
        "outputId": "6909dfec-0a60-46d8-957d-d06e892a9288"
      },
      "outputs": [
        {
          "output_type": "execute_result",
          "data": {
            "text/plain": [
              "<pandas.io.formats.style.Styler at 0x7f973a13f250>"
            ],
            "text/html": [
              "<style type=\"text/css\">\n",
              "#T_88ad0_row0_col1 {\n",
              "  background-color: #014636;\n",
              "  color: #f1f1f1;\n",
              "}\n",
              "#T_88ad0_row1_col1 {\n",
              "  background-color: #014e3e;\n",
              "  color: #f1f1f1;\n",
              "}\n",
              "#T_88ad0_row2_col1 {\n",
              "  background-color: #57a1ca;\n",
              "  color: #f1f1f1;\n",
              "}\n",
              "#T_88ad0_row3_col1 {\n",
              "  background-color: #78aed2;\n",
              "  color: #f1f1f1;\n",
              "}\n",
              "#T_88ad0_row4_col1 {\n",
              "  background-color: #82b1d4;\n",
              "  color: #000000;\n",
              "}\n",
              "#T_88ad0_row5_col1 {\n",
              "  background-color: #86b3d5;\n",
              "  color: #000000;\n",
              "}\n",
              "#T_88ad0_row6_col1 {\n",
              "  background-color: #e4dded;\n",
              "  color: #000000;\n",
              "}\n",
              "#T_88ad0_row7_col1 {\n",
              "  background-color: #eee4f1;\n",
              "  color: #000000;\n",
              "}\n",
              "#T_88ad0_row8_col1 {\n",
              "  background-color: #efe5f2;\n",
              "  color: #000000;\n",
              "}\n",
              "#T_88ad0_row9_col1 {\n",
              "  background-color: #f6edf6;\n",
              "  color: #000000;\n",
              "}\n",
              "#T_88ad0_row10_col1 {\n",
              "  background-color: #fbf2f9;\n",
              "  color: #000000;\n",
              "}\n",
              "#T_88ad0_row11_col1 {\n",
              "  background-color: #fef6fb;\n",
              "  color: #000000;\n",
              "}\n",
              "#T_88ad0_row12_col1, #T_88ad0_row13_col1, #T_88ad0_row14_col1 {\n",
              "  background-color: #fff7fb;\n",
              "  color: #000000;\n",
              "}\n",
              "</style>\n",
              "<table id=\"T_88ad0_\" class=\"dataframe\">\n",
              "  <thead>\n",
              "    <tr>\n",
              "      <th class=\"blank level0\" >&nbsp;</th>\n",
              "      <th class=\"col_heading level0 col0\" >frequently_used_word</th>\n",
              "      <th class=\"col_heading level0 col1\" >count</th>\n",
              "    </tr>\n",
              "  </thead>\n",
              "  <tbody>\n",
              "    <tr>\n",
              "      <th id=\"T_88ad0_level0_row0\" class=\"row_heading level0 row0\" >0</th>\n",
              "      <td id=\"T_88ad0_row0_col0\" class=\"data row0 col0\" >good</td>\n",
              "      <td id=\"T_88ad0_row0_col1\" class=\"data row0 col1\" >7073</td>\n",
              "    </tr>\n",
              "    <tr>\n",
              "      <th id=\"T_88ad0_level0_row1\" class=\"row_heading level0 row1\" >1</th>\n",
              "      <td id=\"T_88ad0_row1_col0\" class=\"data row1 col0\" >food</td>\n",
              "      <td id=\"T_88ad0_row1_col1\" class=\"data row1 col1\" >6916</td>\n",
              "    </tr>\n",
              "    <tr>\n",
              "      <th id=\"T_88ad0_level0_row2\" class=\"row_heading level0 row2\" >2</th>\n",
              "      <td id=\"T_88ad0_row2_col0\" class=\"data row2 col0\" >great</td>\n",
              "      <td id=\"T_88ad0_row2_col1\" class=\"data row2 col1\" >4697</td>\n",
              "    </tr>\n",
              "    <tr>\n",
              "      <th id=\"T_88ad0_level0_row3\" class=\"row_heading level0 row3\" >3</th>\n",
              "      <td id=\"T_88ad0_row3_col0\" class=\"data row3 col0\" >restaurant</td>\n",
              "      <td id=\"T_88ad0_row3_col1\" class=\"data row3 col1\" >4319</td>\n",
              "    </tr>\n",
              "    <tr>\n",
              "      <th id=\"T_88ad0_level0_row4\" class=\"row_heading level0 row4\" >4</th>\n",
              "      <td id=\"T_88ad0_row4_col0\" class=\"data row4 col0\" >service</td>\n",
              "      <td id=\"T_88ad0_row4_col1\" class=\"data row4 col1\" >4220</td>\n",
              "    </tr>\n",
              "    <tr>\n",
              "      <th id=\"T_88ad0_level0_row5\" class=\"row_heading level0 row5\" >5</th>\n",
              "      <td id=\"T_88ad0_row5_col0\" class=\"data row5 col0\" >place</td>\n",
              "      <td id=\"T_88ad0_row5_col1\" class=\"data row5 col1\" >4169</td>\n",
              "    </tr>\n",
              "    <tr>\n",
              "      <th id=\"T_88ad0_level0_row6\" class=\"row_heading level0 row6\" >6</th>\n",
              "      <td id=\"T_88ad0_row6_col0\" class=\"data row6 col0\" >time</td>\n",
              "      <td id=\"T_88ad0_row6_col1\" class=\"data row6 col1\" >2754</td>\n",
              "    </tr>\n",
              "    <tr>\n",
              "      <th id=\"T_88ad0_level0_row7\" class=\"row_heading level0 row7\" >7</th>\n",
              "      <td id=\"T_88ad0_row7_col0\" class=\"data row7 col0\" >order</td>\n",
              "      <td id=\"T_88ad0_row7_col1\" class=\"data row7 col1\" >2499</td>\n",
              "    </tr>\n",
              "    <tr>\n",
              "      <th id=\"T_88ad0_level0_row8\" class=\"row_heading level0 row8\" >8</th>\n",
              "      <td id=\"T_88ad0_row8_col0\" class=\"data row8 col0\" >table</td>\n",
              "      <td id=\"T_88ad0_row8_col1\" class=\"data row8 col1\" >2456</td>\n",
              "    </tr>\n",
              "    <tr>\n",
              "      <th id=\"T_88ad0_level0_row9\" class=\"row_heading level0 row9\" >9</th>\n",
              "      <td id=\"T_88ad0_row9_col0\" class=\"data row9 col0\" >eat</td>\n",
              "      <td id=\"T_88ad0_row9_col1\" class=\"data row9 col1\" >2213</td>\n",
              "    </tr>\n",
              "    <tr>\n",
              "      <th id=\"T_88ad0_level0_row10\" class=\"row_heading level0 row10\" >10</th>\n",
              "      <td id=\"T_88ad0_row10_col0\" class=\"data row10 col0\" >go</td>\n",
              "      <td id=\"T_88ad0_row10_col1\" class=\"data row10 col1\" >2053</td>\n",
              "    </tr>\n",
              "    <tr>\n",
              "      <th id=\"T_88ad0_level0_row11\" class=\"row_heading level0 row11\" >11</th>\n",
              "      <td id=\"T_88ad0_row11_col0\" class=\"data row11 col0\" >staff</td>\n",
              "      <td id=\"T_88ad0_row11_col1\" class=\"data row11 col1\" >1940</td>\n",
              "    </tr>\n",
              "    <tr>\n",
              "      <th id=\"T_88ad0_level0_row12\" class=\"row_heading level0 row12\" >12</th>\n",
              "      <td id=\"T_88ad0_row12_col0\" class=\"data row12 col0\" >delicious</td>\n",
              "      <td id=\"T_88ad0_row12_col1\" class=\"data row12 col1\" >1927</td>\n",
              "    </tr>\n",
              "    <tr>\n",
              "      <th id=\"T_88ad0_level0_row13\" class=\"row_heading level0 row13\" >13</th>\n",
              "      <td id=\"T_88ad0_row13_col0\" class=\"data row13 col0\" >come</td>\n",
              "      <td id=\"T_88ad0_row13_col1\" class=\"data row13 col1\" >1922</td>\n",
              "    </tr>\n",
              "    <tr>\n",
              "      <th id=\"T_88ad0_level0_row14\" class=\"row_heading level0 row14\" >14</th>\n",
              "      <td id=\"T_88ad0_row14_col0\" class=\"data row14 col0\" >menu</td>\n",
              "      <td id=\"T_88ad0_row14_col1\" class=\"data row14 col1\" >1909</td>\n",
              "    </tr>\n",
              "  </tbody>\n",
              "</table>\n"
            ]
          },
          "metadata": {},
          "execution_count": 44
        }
      ],
      "source": [
        "words_collection = Counter([item for sublist in df['review_full'] for item in sublist])\n",
        "freq_word_df = pd.DataFrame(words_collection.most_common(15))\n",
        "freq_word_df.columns = ['frequently_used_word','count']\n",
        "\n",
        "freq_word_df.style.background_gradient(cmap='PuBuGn', low=0, high=0, axis=0, subset=None)"
      ]
    },
    {
      "cell_type": "code",
      "source": [
        "word_list = [item for sublist in df['review_full'] for item in sublist]\n",
        "word_string = \" \".join(word_list)\n",
        "\n",
        "wordcloud = WordCloud(stopwords=STOPWORDS,\n",
        "                          background_color='white', \n",
        "                      max_words=60000, \n",
        "                      width=1000,\n",
        "                      height=650\n",
        "                         ).generate(word_string)"
      ],
      "metadata": {
        "id": "tzF85nMAScBD"
      },
      "execution_count": 47,
      "outputs": []
    },
    {
      "cell_type": "markdown",
      "metadata": {
        "papermill": {
          "duration": 0.118596,
          "end_time": "2020-10-16T12:11:42.536635",
          "exception": false,
          "start_time": "2020-10-16T12:11:42.418039",
          "status": "completed"
        },
        "tags": [],
        "id": "JLiPCQZb76Nm"
      },
      "source": [
        "## Positive Sentiment Wordcloud"
      ]
    },
    {
      "cell_type": "code",
      "execution_count": 48,
      "metadata": {
        "execution": {
          "iopub.execute_input": "2020-10-16T12:11:42.772701Z",
          "iopub.status.busy": "2020-10-16T12:11:42.771963Z",
          "iopub.status.idle": "2020-10-16T12:11:43.107676Z",
          "shell.execute_reply": "2020-10-16T12:11:43.107070Z"
        },
        "papermill": {
          "duration": 0.457951,
          "end_time": "2020-10-16T12:11:43.107800",
          "exception": false,
          "start_time": "2020-10-16T12:11:42.649849",
          "status": "completed"
        },
        "tags": [],
        "id": "a-tLVSul76Nm",
        "colab": {
          "base_uri": "https://localhost:8080/",
          "height": 514
        },
        "outputId": "f00333b0-9036-45c7-b9aa-2e62d0a86292"
      },
      "outputs": [
        {
          "output_type": "execute_result",
          "data": {
            "text/plain": [
              "<pandas.io.formats.style.Styler at 0x7f9738f11250>"
            ],
            "text/html": [
              "<style type=\"text/css\">\n",
              "#T_8e738_row0_col1 {\n",
              "  background-color: #014636;\n",
              "  color: #f1f1f1;\n",
              "}\n",
              "#T_8e738_row1_col1 {\n",
              "  background-color: #01614f;\n",
              "  color: #f1f1f1;\n",
              "}\n",
              "#T_8e738_row2_col1 {\n",
              "  background-color: #328fbc;\n",
              "  color: #f1f1f1;\n",
              "}\n",
              "#T_8e738_row3_col1, #T_8e738_row4_col1 {\n",
              "  background-color: #8eb5d6;\n",
              "  color: #000000;\n",
              "}\n",
              "#T_8e738_row5_col1 {\n",
              "  background-color: #91b6d7;\n",
              "  color: #000000;\n",
              "}\n",
              "#T_8e738_row6_col1 {\n",
              "  background-color: #e7dfee;\n",
              "  color: #000000;\n",
              "}\n",
              "#T_8e738_row7_col1 {\n",
              "  background-color: #f6edf6;\n",
              "  color: #000000;\n",
              "}\n",
              "#T_8e738_row8_col1 {\n",
              "  background-color: #faf2f8;\n",
              "  color: #000000;\n",
              "}\n",
              "#T_8e738_row9_col1 {\n",
              "  background-color: #fbf3f9;\n",
              "  color: #000000;\n",
              "}\n",
              "#T_8e738_row10_col1, #T_8e738_row11_col1 {\n",
              "  background-color: #fcf4f9;\n",
              "  color: #000000;\n",
              "}\n",
              "#T_8e738_row12_col1 {\n",
              "  background-color: #fdf4fa;\n",
              "  color: #000000;\n",
              "}\n",
              "#T_8e738_row13_col1, #T_8e738_row14_col1 {\n",
              "  background-color: #fff7fb;\n",
              "  color: #000000;\n",
              "}\n",
              "</style>\n",
              "<table id=\"T_8e738_\" class=\"dataframe\">\n",
              "  <thead>\n",
              "    <tr>\n",
              "      <th class=\"blank level0\" >&nbsp;</th>\n",
              "      <th class=\"col_heading level0 col0\" >frequently_used_word</th>\n",
              "      <th class=\"col_heading level0 col1\" >count</th>\n",
              "    </tr>\n",
              "  </thead>\n",
              "  <tbody>\n",
              "    <tr>\n",
              "      <th id=\"T_8e738_level0_row0\" class=\"row_heading level0 row0\" >0</th>\n",
              "      <td id=\"T_8e738_row0_col0\" class=\"data row0 col0\" >good</td>\n",
              "      <td id=\"T_8e738_row0_col1\" class=\"data row0 col1\" >5023</td>\n",
              "    </tr>\n",
              "    <tr>\n",
              "      <th id=\"T_8e738_level0_row1\" class=\"row_heading level0 row1\" >1</th>\n",
              "      <td id=\"T_8e738_row1_col0\" class=\"data row1 col0\" >food</td>\n",
              "      <td id=\"T_8e738_row1_col1\" class=\"data row1 col1\" >4690</td>\n",
              "    </tr>\n",
              "    <tr>\n",
              "      <th id=\"T_8e738_level0_row2\" class=\"row_heading level0 row2\" >2</th>\n",
              "      <td id=\"T_8e738_row2_col0\" class=\"data row2 col0\" >great</td>\n",
              "      <td id=\"T_8e738_row2_col1\" class=\"data row2 col1\" >3686</td>\n",
              "    </tr>\n",
              "    <tr>\n",
              "      <th id=\"T_8e738_level0_row3\" class=\"row_heading level0 row3\" >3</th>\n",
              "      <td id=\"T_8e738_row3_col0\" class=\"data row3 col0\" >service</td>\n",
              "      <td id=\"T_8e738_row3_col1\" class=\"data row3 col1\" >2916</td>\n",
              "    </tr>\n",
              "    <tr>\n",
              "      <th id=\"T_8e738_level0_row4\" class=\"row_heading level0 row4\" >4</th>\n",
              "      <td id=\"T_8e738_row4_col0\" class=\"data row4 col0\" >restaurant</td>\n",
              "      <td id=\"T_8e738_row4_col1\" class=\"data row4 col1\" >2913</td>\n",
              "    </tr>\n",
              "    <tr>\n",
              "      <th id=\"T_8e738_level0_row5\" class=\"row_heading level0 row5\" >5</th>\n",
              "      <td id=\"T_8e738_row5_col0\" class=\"data row5 col0\" >place</td>\n",
              "      <td id=\"T_8e738_row5_col1\" class=\"data row5 col1\" >2891</td>\n",
              "    </tr>\n",
              "    <tr>\n",
              "      <th id=\"T_8e738_level0_row6\" class=\"row_heading level0 row6\" >6</th>\n",
              "      <td id=\"T_8e738_row6_col0\" class=\"data row6 col0\" >time</td>\n",
              "      <td id=\"T_8e738_row6_col1\" class=\"data row6 col1\" >1895</td>\n",
              "    </tr>\n",
              "    <tr>\n",
              "      <th id=\"T_8e738_level0_row7\" class=\"row_heading level0 row7\" >7</th>\n",
              "      <td id=\"T_8e738_row7_col0\" class=\"data row7 col0\" >delicious</td>\n",
              "      <td id=\"T_8e738_row7_col1\" class=\"data row7 col1\" >1583</td>\n",
              "    </tr>\n",
              "    <tr>\n",
              "      <th id=\"T_8e738_level0_row8\" class=\"row_heading level0 row8\" >8</th>\n",
              "      <td id=\"T_8e738_row8_col0\" class=\"data row8 col0\" >eat</td>\n",
              "      <td id=\"T_8e738_row8_col1\" class=\"data row8 col1\" >1489</td>\n",
              "    </tr>\n",
              "    <tr>\n",
              "      <th id=\"T_8e738_level0_row9\" class=\"row_heading level0 row9\" >9</th>\n",
              "      <td id=\"T_8e738_row9_col0\" class=\"data row9 col0\" >table</td>\n",
              "      <td id=\"T_8e738_row9_col1\" class=\"data row9 col1\" >1458</td>\n",
              "    </tr>\n",
              "    <tr>\n",
              "      <th id=\"T_8e738_level0_row10\" class=\"row_heading level0 row10\" >10</th>\n",
              "      <td id=\"T_8e738_row10_col0\" class=\"data row10 col0\" >order</td>\n",
              "      <td id=\"T_8e738_row10_col1\" class=\"data row10 col1\" >1444</td>\n",
              "    </tr>\n",
              "    <tr>\n",
              "      <th id=\"T_8e738_level0_row11\" class=\"row_heading level0 row11\" >11</th>\n",
              "      <td id=\"T_8e738_row11_col0\" class=\"data row11 col0\" >excellent</td>\n",
              "      <td id=\"T_8e738_row11_col1\" class=\"data row11 col1\" >1439</td>\n",
              "    </tr>\n",
              "    <tr>\n",
              "      <th id=\"T_8e738_level0_row12\" class=\"row_heading level0 row12\" >12</th>\n",
              "      <td id=\"T_8e738_row12_col0\" class=\"data row12 col0\" >staff</td>\n",
              "      <td id=\"T_8e738_row12_col1\" class=\"data row12 col1\" >1423</td>\n",
              "    </tr>\n",
              "    <tr>\n",
              "      <th id=\"T_8e738_level0_row13\" class=\"row_heading level0 row13\" >13</th>\n",
              "      <td id=\"T_8e738_row13_col0\" class=\"data row13 col0\" >visit</td>\n",
              "      <td id=\"T_8e738_row13_col1\" class=\"data row13 col1\" >1372</td>\n",
              "    </tr>\n",
              "    <tr>\n",
              "      <th id=\"T_8e738_level0_row14\" class=\"row_heading level0 row14\" >14</th>\n",
              "      <td id=\"T_8e738_row14_col0\" class=\"data row14 col0\" >go</td>\n",
              "      <td id=\"T_8e738_row14_col1\" class=\"data row14 col1\" >1365</td>\n",
              "    </tr>\n",
              "  </tbody>\n",
              "</table>\n"
            ]
          },
          "metadata": {},
          "execution_count": 48
        }
      ],
      "source": [
        "pos_df = df[df['Sentiment'] == 2]\n",
        "words_collection = Counter([item for sublist in pos_df['review_full'] for item in sublist])\n",
        "freq_word_df = pd.DataFrame(words_collection.most_common(15))\n",
        "freq_word_df.columns = ['frequently_used_word','count']\n",
        "\n",
        "freq_word_df.style.background_gradient(cmap='PuBuGn', low=0, high=0, axis=0, subset=None)"
      ]
    },
    {
      "cell_type": "code",
      "execution_count": 49,
      "metadata": {
        "execution": {
          "iopub.execute_input": "2020-10-16T12:11:43.353650Z",
          "iopub.status.busy": "2020-10-16T12:11:43.343528Z",
          "iopub.status.idle": "2020-10-16T12:12:07.423012Z",
          "shell.execute_reply": "2020-10-16T12:12:07.421752Z"
        },
        "papermill": {
          "duration": 24.204369,
          "end_time": "2020-10-16T12:12:07.423154",
          "exception": false,
          "start_time": "2020-10-16T12:11:43.218785",
          "status": "completed"
        },
        "tags": [],
        "id": "8BNkXegb76Nn"
      },
      "outputs": [],
      "source": [
        "word_list_pos = [item for sublist in pos_df['review_full'] for item in sublist]\n",
        "word_string_pos = \" \".join(word_list)\n",
        "\n",
        "wordcloud = WordCloud(stopwords=STOPWORDS,\n",
        "                          background_color='white', \n",
        "                      max_words=40000, \n",
        "                      width=1000,\n",
        "                      height=650\n",
        "                         ).generate(word_string_pos)"
      ]
    },
    {
      "cell_type": "markdown",
      "metadata": {
        "papermill": {
          "duration": 0.145821,
          "end_time": "2020-10-16T12:12:38.076799",
          "exception": false,
          "start_time": "2020-10-16T12:12:37.930978",
          "status": "completed"
        },
        "tags": [],
        "id": "9Jxwnv0g76Nt"
      },
      "source": [
        "## Negative Sentiment Wordcloud"
      ]
    },
    {
      "cell_type": "code",
      "execution_count": 52,
      "metadata": {
        "execution": {
          "iopub.execute_input": "2020-10-16T12:12:38.392191Z",
          "iopub.status.busy": "2020-10-16T12:12:38.391110Z",
          "iopub.status.idle": "2020-10-16T12:12:38.481370Z",
          "shell.execute_reply": "2020-10-16T12:12:38.481941Z"
        },
        "papermill": {
          "duration": 0.247775,
          "end_time": "2020-10-16T12:12:38.482088",
          "exception": false,
          "start_time": "2020-10-16T12:12:38.234313",
          "status": "completed"
        },
        "tags": [],
        "id": "3aBbJHPd76Nu",
        "colab": {
          "base_uri": "https://localhost:8080/",
          "height": 514
        },
        "outputId": "95c23f7c-d115-4a95-d17f-9686ff97c543"
      },
      "outputs": [
        {
          "output_type": "execute_result",
          "data": {
            "text/plain": [
              "<pandas.io.formats.style.Styler at 0x7f973907b450>"
            ],
            "text/html": [
              "<style type=\"text/css\">\n",
              "#T_5784a_row0_col1 {\n",
              "  background-color: #014636;\n",
              "  color: #f1f1f1;\n",
              "}\n",
              "#T_5784a_row1_col1 {\n",
              "  background-color: #268bb0;\n",
              "  color: #f1f1f1;\n",
              "}\n",
              "#T_5784a_row2_col1 {\n",
              "  background-color: #90b6d7;\n",
              "  color: #000000;\n",
              "}\n",
              "#T_5784a_row3_col1 {\n",
              "  background-color: #91b6d7;\n",
              "  color: #000000;\n",
              "}\n",
              "#T_5784a_row4_col1 {\n",
              "  background-color: #95b8d8;\n",
              "  color: #000000;\n",
              "}\n",
              "#T_5784a_row5_col1 {\n",
              "  background-color: #c1cae2;\n",
              "  color: #000000;\n",
              "}\n",
              "#T_5784a_row6_col1 {\n",
              "  background-color: #cdd0e5;\n",
              "  color: #000000;\n",
              "}\n",
              "#T_5784a_row7_col1 {\n",
              "  background-color: #e0dbec;\n",
              "  color: #000000;\n",
              "}\n",
              "#T_5784a_row8_col1 {\n",
              "  background-color: #f1e8f3;\n",
              "  color: #000000;\n",
              "}\n",
              "#T_5784a_row9_col1 {\n",
              "  background-color: #f3eaf4;\n",
              "  color: #000000;\n",
              "}\n",
              "#T_5784a_row10_col1 {\n",
              "  background-color: #f4eaf4;\n",
              "  color: #000000;\n",
              "}\n",
              "#T_5784a_row11_col1 {\n",
              "  background-color: #faf2f8;\n",
              "  color: #000000;\n",
              "}\n",
              "#T_5784a_row12_col1 {\n",
              "  background-color: #fbf2f9;\n",
              "  color: #000000;\n",
              "}\n",
              "#T_5784a_row13_col1 {\n",
              "  background-color: #fef6fa;\n",
              "  color: #000000;\n",
              "}\n",
              "#T_5784a_row14_col1 {\n",
              "  background-color: #fff7fb;\n",
              "  color: #000000;\n",
              "}\n",
              "</style>\n",
              "<table id=\"T_5784a_\" class=\"dataframe\">\n",
              "  <thead>\n",
              "    <tr>\n",
              "      <th class=\"blank level0\" >&nbsp;</th>\n",
              "      <th class=\"col_heading level0 col0\" >frequently_used_word</th>\n",
              "      <th class=\"col_heading level0 col1\" >count</th>\n",
              "    </tr>\n",
              "  </thead>\n",
              "  <tbody>\n",
              "    <tr>\n",
              "      <th id=\"T_5784a_level0_row0\" class=\"row_heading level0 row0\" >0</th>\n",
              "      <td id=\"T_5784a_row0_col0\" class=\"data row0 col0\" >food</td>\n",
              "      <td id=\"T_5784a_row0_col1\" class=\"data row0 col1\" >566</td>\n",
              "    </tr>\n",
              "    <tr>\n",
              "      <th id=\"T_5784a_level0_row1\" class=\"row_heading level0 row1\" >1</th>\n",
              "      <td id=\"T_5784a_row1_col0\" class=\"data row1 col0\" >restaurant</td>\n",
              "      <td id=\"T_5784a_row1_col1\" class=\"data row1 col1\" >444</td>\n",
              "    </tr>\n",
              "    <tr>\n",
              "      <th id=\"T_5784a_level0_row2\" class=\"row_heading level0 row2\" >2</th>\n",
              "      <td id=\"T_5784a_row2_col0\" class=\"data row2 col0\" >table</td>\n",
              "      <td id=\"T_5784a_row2_col1\" class=\"data row2 col1\" >356</td>\n",
              "    </tr>\n",
              "    <tr>\n",
              "      <th id=\"T_5784a_level0_row3\" class=\"row_heading level0 row3\" >3</th>\n",
              "      <td id=\"T_5784a_row3_col0\" class=\"data row3 col0\" >place</td>\n",
              "      <td id=\"T_5784a_row3_col1\" class=\"data row3 col1\" >355</td>\n",
              "    </tr>\n",
              "    <tr>\n",
              "      <th id=\"T_5784a_level0_row4\" class=\"row_heading level0 row4\" >4</th>\n",
              "      <td id=\"T_5784a_row4_col0\" class=\"data row4 col0\" >order</td>\n",
              "      <td id=\"T_5784a_row4_col1\" class=\"data row4 col1\" >353</td>\n",
              "    </tr>\n",
              "    <tr>\n",
              "      <th id=\"T_5784a_level0_row5\" class=\"row_heading level0 row5\" >5</th>\n",
              "      <td id=\"T_5784a_row5_col0\" class=\"data row5 col0\" >service</td>\n",
              "      <td id=\"T_5784a_row5_col1\" class=\"data row5 col1\" >311</td>\n",
              "    </tr>\n",
              "    <tr>\n",
              "      <th id=\"T_5784a_level0_row6\" class=\"row_heading level0 row6\" >6</th>\n",
              "      <td id=\"T_5784a_row6_col0\" class=\"data row6 col0\" >good</td>\n",
              "      <td id=\"T_5784a_row6_col1\" class=\"data row6 col1\" >299</td>\n",
              "    </tr>\n",
              "    <tr>\n",
              "      <th id=\"T_5784a_level0_row7\" class=\"row_heading level0 row7\" >7</th>\n",
              "      <td id=\"T_5784a_row7_col0\" class=\"data row7 col0\" >time</td>\n",
              "      <td id=\"T_5784a_row7_col1\" class=\"data row7 col1\" >269</td>\n",
              "    </tr>\n",
              "    <tr>\n",
              "      <th id=\"T_5784a_level0_row8\" class=\"row_heading level0 row8\" >8</th>\n",
              "      <td id=\"T_5784a_row8_col0\" class=\"data row8 col0\" >ask</td>\n",
              "      <td id=\"T_5784a_row8_col1\" class=\"data row8 col1\" >238</td>\n",
              "    </tr>\n",
              "    <tr>\n",
              "      <th id=\"T_5784a_level0_row9\" class=\"row_heading level0 row9\" >9</th>\n",
              "      <td id=\"T_5784a_row9_col0\" class=\"data row9 col0\" >come</td>\n",
              "      <td id=\"T_5784a_row9_col1\" class=\"data row9 col1\" >234</td>\n",
              "    </tr>\n",
              "    <tr>\n",
              "      <th id=\"T_5784a_level0_row10\" class=\"row_heading level0 row10\" >10</th>\n",
              "      <td id=\"T_5784a_row10_col0\" class=\"data row10 col0\" >eat</td>\n",
              "      <td id=\"T_5784a_row10_col1\" class=\"data row10 col1\" >232</td>\n",
              "    </tr>\n",
              "    <tr>\n",
              "      <th id=\"T_5784a_level0_row11\" class=\"row_heading level0 row11\" >11</th>\n",
              "      <td id=\"T_5784a_row11_col0\" class=\"data row11 col0\" >go</td>\n",
              "      <td id=\"T_5784a_row11_col1\" class=\"data row11 col1\" >217</td>\n",
              "    </tr>\n",
              "    <tr>\n",
              "      <th id=\"T_5784a_level0_row12\" class=\"row_heading level0 row12\" >12</th>\n",
              "      <td id=\"T_5784a_row12_col0\" class=\"data row12 col0\" >wait</td>\n",
              "      <td id=\"T_5784a_row12_col1\" class=\"data row12 col1\" >216</td>\n",
              "    </tr>\n",
              "    <tr>\n",
              "      <th id=\"T_5784a_level0_row13\" class=\"row_heading level0 row13\" >13</th>\n",
              "      <td id=\"T_5784a_row13_col0\" class=\"data row13 col0\" >like</td>\n",
              "      <td id=\"T_5784a_row13_col1\" class=\"data row13 col1\" >208</td>\n",
              "    </tr>\n",
              "    <tr>\n",
              "      <th id=\"T_5784a_level0_row14\" class=\"row_heading level0 row14\" >14</th>\n",
              "      <td id=\"T_5784a_row14_col0\" class=\"data row14 col0\" >waiter</td>\n",
              "      <td id=\"T_5784a_row14_col1\" class=\"data row14 col1\" >205</td>\n",
              "    </tr>\n",
              "  </tbody>\n",
              "</table>\n"
            ]
          },
          "metadata": {},
          "execution_count": 52
        }
      ],
      "source": [
        "neg_df = df[df['Sentiment'] == 0]\n",
        "words_collection = Counter([item for sublist in neg_df['review_full'] for item in sublist])\n",
        "freq_word_df = pd.DataFrame(words_collection.most_common(15))\n",
        "freq_word_df.columns = ['frequently_used_word','count']\n",
        "\n",
        "freq_word_df.style.background_gradient(cmap='PuBuGn', low=0, high=0, axis=0, subset=None)"
      ]
    },
    {
      "cell_type": "code",
      "execution_count": 54,
      "metadata": {
        "execution": {
          "iopub.execute_input": "2020-10-16T12:12:38.895164Z",
          "iopub.status.busy": "2020-10-16T12:12:38.791858Z",
          "iopub.status.idle": "2020-10-16T12:13:03.848655Z",
          "shell.execute_reply": "2020-10-16T12:13:03.847257Z"
        },
        "papermill": {
          "duration": 25.221851,
          "end_time": "2020-10-16T12:13:03.848795",
          "exception": false,
          "start_time": "2020-10-16T12:12:38.626944",
          "status": "completed"
        },
        "tags": [],
        "id": "duK4xQ7H76Nu"
      },
      "outputs": [],
      "source": [
        "word_list_neg = [item for sublist in neg_df['review_full'] for item in sublist]\n",
        "word_string_neg = \" \".join(word_list)\n",
        "\n",
        "wordcloud = WordCloud(stopwords=STOPWORDS,\n",
        "                          background_color='white', \n",
        "                      max_words=10000, \n",
        "                      width=1000,\n",
        "                      height=650\n",
        "                         ).generate(word_string_neg)"
      ]
    },
    {
      "cell_type": "markdown",
      "metadata": {
        "papermill": {
          "duration": 0.162664,
          "end_time": "2020-10-16T12:13:05.632826",
          "exception": false,
          "start_time": "2020-10-16T12:13:05.470162",
          "status": "completed"
        },
        "tags": [],
        "id": "FKP7rTw576Nv"
      },
      "source": [
        "Some obvious words like \"bad\", \"problem\" can be seen in this wordcloud. Maybe when we expand the vocabulary we can clean the text a little better."
      ]
    },
    {
      "cell_type": "markdown",
      "metadata": {
        "papermill": {
          "duration": 0.167092,
          "end_time": "2020-10-16T12:13:06.004054",
          "exception": false,
          "start_time": "2020-10-16T12:13:05.836962",
          "status": "completed"
        },
        "tags": [],
        "id": "-Ee3uniS76Nw"
      },
      "source": [
        "## BERT model \n",
        "- from the ktrain module\n",
        "- must turn reviews into strings"
      ]
    },
    {
      "cell_type": "code",
      "execution_count": 56,
      "metadata": {
        "execution": {
          "iopub.execute_input": "2020-10-16T12:13:06.396857Z",
          "iopub.status.busy": "2020-10-16T12:13:06.376106Z",
          "iopub.status.idle": "2020-10-16T12:13:06.444885Z",
          "shell.execute_reply": "2020-10-16T12:13:06.445453Z"
        },
        "papermill": {
          "duration": 0.276653,
          "end_time": "2020-10-16T12:13:06.445607",
          "exception": false,
          "start_time": "2020-10-16T12:13:06.168954",
          "status": "completed"
        },
        "tags": [],
        "id": "t-TAXClj76Nw",
        "colab": {
          "base_uri": "https://localhost:8080/",
          "height": 204
        },
        "outputId": "59264a94-111e-4925-bfc6-0f4ca217d392"
      },
      "outputs": [
        {
          "output_type": "execute_result",
          "data": {
            "text/plain": [
              "                                              review_full rating_review  \\\n",
              "43918   husband walk search place naturally find appea...             5   \n",
              "274649  nice time solo diner restaurant week pleasant ...             4   \n",
              "205536  good pizza taste new york place offer average ...             5   \n",
              "117557  good food service good pricey nice ambience cl...             3   \n",
              "477248  crust perfect pick topping personalized pizza ...             5   \n",
              "\n",
              "        Sentiment  \n",
              "43918           2  \n",
              "274649          1  \n",
              "205536          2  \n",
              "117557          1  \n",
              "477248          2  "
            ],
            "text/html": [
              "\n",
              "  <div id=\"df-25749c82-b4ad-4412-af86-8d1c3df08ccc\">\n",
              "    <div class=\"colab-df-container\">\n",
              "      <div>\n",
              "<style scoped>\n",
              "    .dataframe tbody tr th:only-of-type {\n",
              "        vertical-align: middle;\n",
              "    }\n",
              "\n",
              "    .dataframe tbody tr th {\n",
              "        vertical-align: top;\n",
              "    }\n",
              "\n",
              "    .dataframe thead th {\n",
              "        text-align: right;\n",
              "    }\n",
              "</style>\n",
              "<table border=\"1\" class=\"dataframe\">\n",
              "  <thead>\n",
              "    <tr style=\"text-align: right;\">\n",
              "      <th></th>\n",
              "      <th>review_full</th>\n",
              "      <th>rating_review</th>\n",
              "      <th>Sentiment</th>\n",
              "    </tr>\n",
              "  </thead>\n",
              "  <tbody>\n",
              "    <tr>\n",
              "      <th>43918</th>\n",
              "      <td>husband walk search place naturally find appea...</td>\n",
              "      <td>5</td>\n",
              "      <td>2</td>\n",
              "    </tr>\n",
              "    <tr>\n",
              "      <th>274649</th>\n",
              "      <td>nice time solo diner restaurant week pleasant ...</td>\n",
              "      <td>4</td>\n",
              "      <td>1</td>\n",
              "    </tr>\n",
              "    <tr>\n",
              "      <th>205536</th>\n",
              "      <td>good pizza taste new york place offer average ...</td>\n",
              "      <td>5</td>\n",
              "      <td>2</td>\n",
              "    </tr>\n",
              "    <tr>\n",
              "      <th>117557</th>\n",
              "      <td>good food service good pricey nice ambience cl...</td>\n",
              "      <td>3</td>\n",
              "      <td>1</td>\n",
              "    </tr>\n",
              "    <tr>\n",
              "      <th>477248</th>\n",
              "      <td>crust perfect pick topping personalized pizza ...</td>\n",
              "      <td>5</td>\n",
              "      <td>2</td>\n",
              "    </tr>\n",
              "  </tbody>\n",
              "</table>\n",
              "</div>\n",
              "      <button class=\"colab-df-convert\" onclick=\"convertToInteractive('df-25749c82-b4ad-4412-af86-8d1c3df08ccc')\"\n",
              "              title=\"Convert this dataframe to an interactive table.\"\n",
              "              style=\"display:none;\">\n",
              "        \n",
              "  <svg xmlns=\"http://www.w3.org/2000/svg\" height=\"24px\"viewBox=\"0 0 24 24\"\n",
              "       width=\"24px\">\n",
              "    <path d=\"M0 0h24v24H0V0z\" fill=\"none\"/>\n",
              "    <path d=\"M18.56 5.44l.94 2.06.94-2.06 2.06-.94-2.06-.94-.94-2.06-.94 2.06-2.06.94zm-11 1L8.5 8.5l.94-2.06 2.06-.94-2.06-.94L8.5 2.5l-.94 2.06-2.06.94zm10 10l.94 2.06.94-2.06 2.06-.94-2.06-.94-.94-2.06-.94 2.06-2.06.94z\"/><path d=\"M17.41 7.96l-1.37-1.37c-.4-.4-.92-.59-1.43-.59-.52 0-1.04.2-1.43.59L10.3 9.45l-7.72 7.72c-.78.78-.78 2.05 0 2.83L4 21.41c.39.39.9.59 1.41.59.51 0 1.02-.2 1.41-.59l7.78-7.78 2.81-2.81c.8-.78.8-2.07 0-2.86zM5.41 20L4 18.59l7.72-7.72 1.47 1.35L5.41 20z\"/>\n",
              "  </svg>\n",
              "      </button>\n",
              "      \n",
              "  <style>\n",
              "    .colab-df-container {\n",
              "      display:flex;\n",
              "      flex-wrap:wrap;\n",
              "      gap: 12px;\n",
              "    }\n",
              "\n",
              "    .colab-df-convert {\n",
              "      background-color: #E8F0FE;\n",
              "      border: none;\n",
              "      border-radius: 50%;\n",
              "      cursor: pointer;\n",
              "      display: none;\n",
              "      fill: #1967D2;\n",
              "      height: 32px;\n",
              "      padding: 0 0 0 0;\n",
              "      width: 32px;\n",
              "    }\n",
              "\n",
              "    .colab-df-convert:hover {\n",
              "      background-color: #E2EBFA;\n",
              "      box-shadow: 0px 1px 2px rgba(60, 64, 67, 0.3), 0px 1px 3px 1px rgba(60, 64, 67, 0.15);\n",
              "      fill: #174EA6;\n",
              "    }\n",
              "\n",
              "    [theme=dark] .colab-df-convert {\n",
              "      background-color: #3B4455;\n",
              "      fill: #D2E3FC;\n",
              "    }\n",
              "\n",
              "    [theme=dark] .colab-df-convert:hover {\n",
              "      background-color: #434B5C;\n",
              "      box-shadow: 0px 1px 3px 1px rgba(0, 0, 0, 0.15);\n",
              "      filter: drop-shadow(0px 1px 2px rgba(0, 0, 0, 0.3));\n",
              "      fill: #FFFFFF;\n",
              "    }\n",
              "  </style>\n",
              "\n",
              "      <script>\n",
              "        const buttonEl =\n",
              "          document.querySelector('#df-25749c82-b4ad-4412-af86-8d1c3df08ccc button.colab-df-convert');\n",
              "        buttonEl.style.display =\n",
              "          google.colab.kernel.accessAllowed ? 'block' : 'none';\n",
              "\n",
              "        async function convertToInteractive(key) {\n",
              "          const element = document.querySelector('#df-25749c82-b4ad-4412-af86-8d1c3df08ccc');\n",
              "          const dataTable =\n",
              "            await google.colab.kernel.invokeFunction('convertToInteractive',\n",
              "                                                     [key], {});\n",
              "          if (!dataTable) return;\n",
              "\n",
              "          const docLinkHtml = 'Like what you see? Visit the ' +\n",
              "            '<a target=\"_blank\" href=https://colab.research.google.com/notebooks/data_table.ipynb>data table notebook</a>'\n",
              "            + ' to learn more about interactive tables.';\n",
              "          element.innerHTML = '';\n",
              "          dataTable['output_type'] = 'display_data';\n",
              "          await google.colab.output.renderOutput(dataTable, element);\n",
              "          const docLink = document.createElement('div');\n",
              "          docLink.innerHTML = docLinkHtml;\n",
              "          element.appendChild(docLink);\n",
              "        }\n",
              "      </script>\n",
              "    </div>\n",
              "  </div>\n",
              "  "
            ]
          },
          "metadata": {},
          "execution_count": 56
        }
      ],
      "source": [
        "df['review_full'] = df['review_full'].apply(lambda m: \" \".join(m))\n",
        "df.head()"
      ]
    },
    {
      "cell_type": "markdown",
      "metadata": {
        "papermill": {
          "duration": 0.165436,
          "end_time": "2020-10-16T12:13:06.776657",
          "exception": false,
          "start_time": "2020-10-16T12:13:06.611221",
          "status": "completed"
        },
        "tags": [],
        "id": "pReRf4_Y76Nx"
      },
      "source": [
        "# Training BERT model"
      ]
    },
    {
      "cell_type": "code",
      "execution_count": 57,
      "metadata": {
        "execution": {
          "iopub.execute_input": "2020-10-16T12:13:07.120363Z",
          "iopub.status.busy": "2020-10-16T12:13:07.118406Z",
          "iopub.status.idle": "2020-10-16T12:14:18.351092Z",
          "shell.execute_reply": "2020-10-16T12:14:18.350462Z"
        },
        "papermill": {
          "duration": 71.408656,
          "end_time": "2020-10-16T12:14:18.351230",
          "exception": false,
          "start_time": "2020-10-16T12:13:06.942574",
          "status": "completed"
        },
        "tags": [],
        "id": "oPc2hAre76Ny",
        "colab": {
          "base_uri": "https://localhost:8080/",
          "height": 374
        },
        "outputId": "7b37c8b3-26e9-45d0-92d5-c6e615a34d6a"
      },
      "outputs": [
        {
          "output_type": "stream",
          "name": "stdout",
          "text": [
            "['Sentiment_0', 'Sentiment_1', 'Sentiment_2']\n",
            "        Sentiment_0  Sentiment_1  Sentiment_2\n",
            "306818          0.0          1.0          0.0\n",
            "263145          0.0          1.0          0.0\n",
            "464703          0.0          1.0          0.0\n",
            "247921          0.0          0.0          1.0\n",
            "260931          0.0          0.0          1.0\n",
            "['Sentiment_0', 'Sentiment_1', 'Sentiment_2']\n",
            "        Sentiment_0  Sentiment_1  Sentiment_2\n",
            "174150          0.0          0.0          1.0\n",
            "152181          0.0          0.0          1.0\n",
            "396772          0.0          0.0          1.0\n",
            "26934           0.0          0.0          1.0\n",
            "50490           0.0          0.0          1.0\n",
            "preprocessing train...\n",
            "language: en\n"
          ]
        },
        {
          "output_type": "display_data",
          "data": {
            "text/plain": [
              "<IPython.core.display.HTML object>"
            ],
            "text/html": [
              "\n",
              "<style>\n",
              "    /* Turns off some styling */\n",
              "    progress {\n",
              "        /* gets rid of default border in Firefox and Opera. */\n",
              "        border: none;\n",
              "        /* Needs to be in here for Safari polyfill so background images work as expected. */\n",
              "        background-size: auto;\n",
              "    }\n",
              "    progress:not([value]), progress:not([value])::-webkit-progress-bar {\n",
              "        background: repeating-linear-gradient(45deg, #7e7e7e, #7e7e7e 10px, #5c5c5c 10px, #5c5c5c 20px);\n",
              "    }\n",
              "    .progress-bar-interrupted, .progress-bar-interrupted::-webkit-progress-bar {\n",
              "        background: #F44336;\n",
              "    }\n",
              "</style>\n"
            ]
          },
          "metadata": {}
        },
        {
          "output_type": "display_data",
          "data": {
            "text/plain": [
              "<IPython.core.display.HTML object>"
            ],
            "text/html": [
              "done."
            ]
          },
          "metadata": {}
        },
        {
          "output_type": "stream",
          "name": "stdout",
          "text": [
            "Is Multi-Label? False\n",
            "preprocessing test...\n",
            "language: en\n"
          ]
        },
        {
          "output_type": "display_data",
          "data": {
            "text/plain": [
              "<IPython.core.display.HTML object>"
            ],
            "text/html": [
              "\n",
              "<style>\n",
              "    /* Turns off some styling */\n",
              "    progress {\n",
              "        /* gets rid of default border in Firefox and Opera. */\n",
              "        border: none;\n",
              "        /* Needs to be in here for Safari polyfill so background images work as expected. */\n",
              "        background-size: auto;\n",
              "    }\n",
              "    progress:not([value]), progress:not([value])::-webkit-progress-bar {\n",
              "        background: repeating-linear-gradient(45deg, #7e7e7e, #7e7e7e 10px, #5c5c5c 10px, #5c5c5c 20px);\n",
              "    }\n",
              "    .progress-bar-interrupted, .progress-bar-interrupted::-webkit-progress-bar {\n",
              "        background: #F44336;\n",
              "    }\n",
              "</style>\n"
            ]
          },
          "metadata": {}
        },
        {
          "output_type": "display_data",
          "data": {
            "text/plain": [
              "<IPython.core.display.HTML object>"
            ],
            "text/html": [
              "done."
            ]
          },
          "metadata": {}
        }
      ],
      "source": [
        "(x_train, y_train), (x_test, y_test), preproc = text.texts_from_df(df, \n",
        "                                                                    'review_full',\n",
        "                                                                    label_columns=['Sentiment'],\n",
        "                                                                    preprocess_mode='bert')"
      ]
    },
    {
      "cell_type": "code",
      "execution_count": 58,
      "metadata": {
        "execution": {
          "iopub.execute_input": "2020-10-16T12:14:18.998294Z",
          "iopub.status.busy": "2020-10-16T12:14:18.997324Z",
          "iopub.status.idle": "2020-10-16T12:14:32.975834Z",
          "shell.execute_reply": "2020-10-16T12:14:32.976523Z"
        },
        "papermill": {
          "duration": 14.307335,
          "end_time": "2020-10-16T12:14:32.976708",
          "exception": false,
          "start_time": "2020-10-16T12:14:18.669373",
          "status": "completed"
        },
        "tags": [],
        "id": "_Khp55aH76Ny",
        "colab": {
          "base_uri": "https://localhost:8080/"
        },
        "outputId": "cefd652f-d3d1-4d73-bbbc-b0431a5172e5"
      },
      "outputs": [
        {
          "output_type": "stream",
          "name": "stdout",
          "text": [
            "Is Multi-Label? False\n",
            "maxlen is 400\n",
            "done.\n"
          ]
        }
      ],
      "source": [
        "model = text.text_classifier(name='bert',\n",
        "                             train_data=(x_train, y_train),\n",
        "                             preproc=preproc)"
      ]
    },
    {
      "cell_type": "code",
      "execution_count": 59,
      "metadata": {
        "execution": {
          "iopub.execute_input": "2020-10-16T12:14:33.670230Z",
          "iopub.status.busy": "2020-10-16T12:14:33.669197Z",
          "iopub.status.idle": "2020-10-16T12:14:34.534118Z",
          "shell.execute_reply": "2020-10-16T12:14:34.533331Z"
        },
        "papermill": {
          "duration": 1.204897,
          "end_time": "2020-10-16T12:14:34.534246",
          "exception": false,
          "start_time": "2020-10-16T12:14:33.329349",
          "status": "completed"
        },
        "tags": [],
        "id": "6H0Nht1G76Nz"
      },
      "outputs": [],
      "source": [
        "learner = ktrain.get_learner(model=model,\n",
        "                             train_data=(x_train, y_train),\n",
        "                             val_data=(x_test, y_test),\n",
        "                             batch_size=6)"
      ]
    },
    {
      "cell_type": "code",
      "execution_count": 60,
      "metadata": {
        "execution": {
          "iopub.execute_input": "2020-10-16T12:14:35.225430Z",
          "iopub.status.busy": "2020-10-16T12:14:35.224349Z",
          "iopub.status.idle": "2020-10-16T12:55:39.993513Z",
          "shell.execute_reply": "2020-10-16T12:55:39.989086Z"
        },
        "papermill": {
          "duration": 2465.129916,
          "end_time": "2020-10-16T12:55:39.993685",
          "exception": false,
          "start_time": "2020-10-16T12:14:34.863769",
          "status": "completed"
        },
        "tags": [],
        "id": "hquaP0Q676Nz",
        "colab": {
          "base_uri": "https://localhost:8080/"
        },
        "outputId": "005d1d4a-6c3e-49ac-fd32-68472fac07a1"
      },
      "outputs": [
        {
          "output_type": "stream",
          "name": "stdout",
          "text": [
            "\n",
            "\n",
            "begin training using onecycle policy with max lr of 2e-05...\n",
            "1500/1500 [==============================] - 941s 616ms/step - loss: 0.6167 - accuracy: 0.7473 - val_loss: 0.5556 - val_accuracy: 0.7680\n"
          ]
        },
        {
          "output_type": "execute_result",
          "data": {
            "text/plain": [
              "<keras.callbacks.History at 0x7f95048d2490>"
            ]
          },
          "metadata": {},
          "execution_count": 60
        }
      ],
      "source": [
        "learner.fit_onecycle(lr=2e-5,\n",
        "                     epochs=1)"
      ]
    },
    {
      "cell_type": "markdown",
      "metadata": {
        "papermill": {
          "duration": 5.424336,
          "end_time": "2020-10-16T12:55:51.438135",
          "exception": false,
          "start_time": "2020-10-16T12:55:46.013799",
          "status": "completed"
        },
        "tags": [],
        "id": "mjSeAoc976N0"
      },
      "source": [
        "# Results\n",
        "\n",
        "Test accuracy of with 71.22% in Training and 73% in Validation when only using a sample of 1000 reviews. (took 3 minutes)\n",
        "\n",
        "Tried again with 10,000 reviews. Got for the 74.73% accuracy for the training set and 76.8% accuracy for the validation set, so it improved slightly with a larger sample of data. (took 15 minutes) "
      ]
    }
  ],
  "metadata": {
    "kernelspec": {
      "display_name": "Python 3",
      "language": "python",
      "name": "python3"
    },
    "language_info": {
      "codemirror_mode": {
        "name": "ipython",
        "version": 3
      },
      "file_extension": ".py",
      "mimetype": "text/x-python",
      "name": "python",
      "nbconvert_exporter": "python",
      "pygments_lexer": "ipython3",
      "version": "3.7.6"
    },
    "papermill": {
      "duration": 3283.715748,
      "end_time": "2020-10-16T12:55:58.717147",
      "environment_variables": {},
      "exception": null,
      "input_path": "__notebook__.ipynb",
      "output_path": "__notebook__.ipynb",
      "parameters": {},
      "start_time": "2020-10-16T12:01:15.001399",
      "version": "2.1.0"
    },
    "colab": {
      "provenance": [],
      "include_colab_link": true
    },
    "accelerator": "GPU",
    "gpuClass": "standard"
  },
  "nbformat": 4,
  "nbformat_minor": 0
}